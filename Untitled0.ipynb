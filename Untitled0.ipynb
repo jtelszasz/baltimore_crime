{
 "metadata": {
  "name": "",
  "signature": "sha256:2e46ed9314bf9b418c67aad90f8feb54955093b8a23843932f4dc0f0af05c8a9"
 },
 "nbformat": 3,
 "nbformat_minor": 0,
 "worksheets": [
  {
   "cells": [
    {
     "cell_type": "code",
     "collapsed": false,
     "input": [
      "import pandas as pd\n",
      "import glob\n",
      "import plotly.plotly as py\n",
      "from plotly.graph_objs import *\n",
      "\n",
      "gray_light = '#bbbbbb'\n",
      "gray_med = '#737373'\n",
      "red_orange = '#ff3700'"
     ],
     "language": "python",
     "metadata": {},
     "outputs": [],
     "prompt_number": 2
    },
    {
     "cell_type": "code",
     "collapsed": false,
     "input": [
      "ravens_2013 = ['']"
     ],
     "language": "python",
     "metadata": {},
     "outputs": []
    }
   ],
   "metadata": {}
  }
 ]
}