{
 "metadata": {
  "name": "",
  "signature": "sha256:24995ca7d88612d4de241e137e05080514df1673e98e4c08e9153ee51fff47dc"
 },
 "nbformat": 3,
 "nbformat_minor": 0,
 "worksheets": []
}