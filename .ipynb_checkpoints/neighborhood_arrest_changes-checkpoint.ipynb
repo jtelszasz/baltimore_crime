{
 "cells": [
  {
   "cell_type": "code",
   "execution_count": 1,
   "metadata": {
    "collapsed": false
   },
   "outputs": [
    {
     "name": "stdout",
     "output_type": "stream",
     "text": [
      "Populating the interactive namespace from numpy and matplotlib\n"
     ]
    }
   ],
   "source": [
    "%pylab inline\n",
    "import pandas as pd"
   ]
  },
  {
   "cell_type": "code",
   "execution_count": 2,
   "metadata": {
    "collapsed": false
   },
   "outputs": [
    {
     "data": {
      "text/html": [
       "<div style=\"max-height:1000px;max-width:1500px;overflow:auto;\">\n",
       "<table border=\"1\" class=\"dataframe\">\n",
       "  <thead>\n",
       "    <tr style=\"text-align: right;\">\n",
       "      <th></th>\n",
       "      <th>age18_24</th>\n",
       "      <th>vacant</th>\n",
       "      <th>married</th>\n",
       "      <th>femalehh</th>\n",
       "      <th>blk_afam</th>\n",
       "      <th>asian</th>\n",
       "      <th>occ_own</th>\n",
       "      <th>vac_other</th>\n",
       "      <th>malehh</th>\n",
       "      <th>other_race</th>\n",
       "      <th>...</th>\n",
       "      <th>arr13</th>\n",
       "      <th>arr14</th>\n",
       "      <th>arr15</th>\n",
       "      <th>PcCng1314</th>\n",
       "      <th>PcCng1415</th>\n",
       "      <th>RtChg1415</th>\n",
       "      <th>RtChg1314</th>\n",
       "      <th>arRt100013</th>\n",
       "      <th>arRt100014</th>\n",
       "      <th>arRt100015</th>\n",
       "    </tr>\n",
       "  </thead>\n",
       "  <tbody>\n",
       "    <tr>\n",
       "      <th>0</th>\n",
       "      <td> 118</td>\n",
       "      <td>  75</td>\n",
       "      <td> 105</td>\n",
       "      <td>  42</td>\n",
       "      <td>  213</td>\n",
       "      <td> 33</td>\n",
       "      <td> 248</td>\n",
       "      <td>  22</td>\n",
       "      <td>  12</td>\n",
       "      <td>   4</td>\n",
       "      <td>...</td>\n",
       "      <td>  23</td>\n",
       "      <td>  25</td>\n",
       "      <td>  10</td>\n",
       "      <td>  8.695652</td>\n",
       "      <td>-60.000000</td>\n",
       "      <td>-16.872890</td>\n",
       "      <td>  2.249719</td>\n",
       "      <td>  25.871766</td>\n",
       "      <td> 28</td>\n",
       "      <td> 11</td>\n",
       "    </tr>\n",
       "    <tr>\n",
       "      <th>1</th>\n",
       "      <td> 317</td>\n",
       "      <td> 175</td>\n",
       "      <td> 253</td>\n",
       "      <td> 510</td>\n",
       "      <td> 3497</td>\n",
       "      <td>  6</td>\n",
       "      <td> 818</td>\n",
       "      <td>  56</td>\n",
       "      <td> 111</td>\n",
       "      <td>   5</td>\n",
       "      <td>...</td>\n",
       "      <td> 128</td>\n",
       "      <td>  97</td>\n",
       "      <td>  47</td>\n",
       "      <td>-24.218750</td>\n",
       "      <td>-51.546392</td>\n",
       "      <td>-14.068655</td>\n",
       "      <td> -8.722566</td>\n",
       "      <td>  36.015757</td>\n",
       "      <td> 27</td>\n",
       "      <td> 13</td>\n",
       "    </tr>\n",
       "    <tr>\n",
       "      <th>2</th>\n",
       "      <td> 116</td>\n",
       "      <td>  48</td>\n",
       "      <td> 194</td>\n",
       "      <td>  88</td>\n",
       "      <td>  537</td>\n",
       "      <td> 12</td>\n",
       "      <td> 356</td>\n",
       "      <td>  25</td>\n",
       "      <td>  23</td>\n",
       "      <td>  10</td>\n",
       "      <td>...</td>\n",
       "      <td>  46</td>\n",
       "      <td>  24</td>\n",
       "      <td>  42</td>\n",
       "      <td>-47.826087</td>\n",
       "      <td> 75.000000</td>\n",
       "      <td> 14.574899</td>\n",
       "      <td>-17.813765</td>\n",
       "      <td>  37.246963</td>\n",
       "      <td> 19</td>\n",
       "      <td> 34</td>\n",
       "    </tr>\n",
       "    <tr>\n",
       "      <th>3</th>\n",
       "      <td> 231</td>\n",
       "      <td> 233</td>\n",
       "      <td> 215</td>\n",
       "      <td> 294</td>\n",
       "      <td> 2496</td>\n",
       "      <td>  9</td>\n",
       "      <td> 485</td>\n",
       "      <td> 145</td>\n",
       "      <td>  76</td>\n",
       "      <td>  10</td>\n",
       "      <td>...</td>\n",
       "      <td> 354</td>\n",
       "      <td> 193</td>\n",
       "      <td> 120</td>\n",
       "      <td>-45.480226</td>\n",
       "      <td>-37.823834</td>\n",
       "      <td>-28.098537</td>\n",
       "      <td>-61.970746</td>\n",
       "      <td> 136.258660</td>\n",
       "      <td> 74</td>\n",
       "      <td> 46</td>\n",
       "    </tr>\n",
       "    <tr>\n",
       "      <th>4</th>\n",
       "      <td> 272</td>\n",
       "      <td>  84</td>\n",
       "      <td> 431</td>\n",
       "      <td> 331</td>\n",
       "      <td>  108</td>\n",
       "      <td> 14</td>\n",
       "      <td> 981</td>\n",
       "      <td>  41</td>\n",
       "      <td> 115</td>\n",
       "      <td> 413</td>\n",
       "      <td>...</td>\n",
       "      <td>  86</td>\n",
       "      <td>  36</td>\n",
       "      <td>  17</td>\n",
       "      <td>-58.139535</td>\n",
       "      <td>-52.777778</td>\n",
       "      <td> -5.494505</td>\n",
       "      <td>-14.459224</td>\n",
       "      <td>  24.869867</td>\n",
       "      <td> 10</td>\n",
       "      <td>  5</td>\n",
       "    </tr>\n",
       "  </tbody>\n",
       "</table>\n",
       "<p>5 rows × 46 columns</p>\n",
       "</div>"
      ],
      "text/plain": [
       "   age18_24  vacant  married  femalehh  blk_afam  asian  occ_own  vac_other  \\\n",
       "0       118      75      105        42       213     33      248         22   \n",
       "1       317     175      253       510      3497      6      818         56   \n",
       "2       116      48      194        88       537     12      356         25   \n",
       "3       231     233      215       294      2496      9      485        145   \n",
       "4       272      84      431       331       108     14      981         41   \n",
       "\n",
       "   malehh  other_race     ...      arr13  arr14  arr15  PcCng1314  PcCng1415  \\\n",
       "0      12           4     ...         23     25     10   8.695652 -60.000000   \n",
       "1     111           5     ...        128     97     47 -24.218750 -51.546392   \n",
       "2      23          10     ...         46     24     42 -47.826087  75.000000   \n",
       "3      76          10     ...        354    193    120 -45.480226 -37.823834   \n",
       "4     115         413     ...         86     36     17 -58.139535 -52.777778   \n",
       "\n",
       "   RtChg1415  RtChg1314  arRt100013  arRt100014  arRt100015  \n",
       "0 -16.872890   2.249719   25.871766          28          11  \n",
       "1 -14.068655  -8.722566   36.015757          27          13  \n",
       "2  14.574899 -17.813765   37.246963          19          34  \n",
       "3 -28.098537 -61.970746  136.258660          74          46  \n",
       "4  -5.494505 -14.459224   24.869867          10           5  \n",
       "\n",
       "[5 rows x 46 columns]"
      ]
     },
     "execution_count": 2,
     "metadata": {},
     "output_type": "execute_result"
    }
   ],
   "source": [
    "data = pd.read_excel('output/neighborhood_arrests_shapefile_131415_floats_pop200.xlsx')\n",
    "\n",
    "data.head()"
   ]
  },
  {
   "cell_type": "code",
   "execution_count": 3,
   "metadata": {
    "collapsed": false
   },
   "outputs": [
    {
     "data": {
      "text/plain": [
       "<matplotlib.axes._subplots.AxesSubplot at 0x106525cd0>"
      ]
     },
     "execution_count": 3,
     "metadata": {},
     "output_type": "execute_result"
    },
    {
     "data": {
      "image/png": "[encoded data removed]",
      "text/plain": [
       "<matplotlib.figure.Figure at 0x1065e4110>"
      ]
     },
     "metadata": {},
     "output_type": "display_data"
    }
   ],
   "source": [
    "data['PcCng1415'].hist(bins=20)"
   ]
  },
  {
   "cell_type": "code",
   "execution_count": 4,
   "metadata": {
    "collapsed": false
   },
   "outputs": [
    {
     "data": {
      "text/plain": [
       "<matplotlib.axes._subplots.AxesSubplot at 0x106672910>"
      ]
     },
     "execution_count": 4,
     "metadata": {},
     "output_type": "execute_result"
    },
    {
     "data": {
      "image/png": "[encoded data removed]",
      "text/plain": [
       "<matplotlib.figure.Figure at 0x10666df10>"
      ]
     },
     "metadata": {},
     "output_type": "display_data"
    }
   ],
   "source": [
    "data['RtChg1415'].hist(bins=20)"
   ]
  },
  {
   "cell_type": "code",
   "execution_count": null,
   "metadata": {
    "collapsed": true
   },
   "outputs": [],
   "source": []
  }
 ],
 "metadata": {
  "kernelspec": {
   "display_name": "Python 2",
   "language": "python",
   "name": "python2"
  },
  "language_info": {
   "codemirror_mode": {
    "name": "ipython",
    "version": 2
   },
   "file_extension": ".py",
   "mimetype": "text/x-python",
   "name": "python",
   "nbconvert_exporter": "python",
   "pygments_lexer": "ipython2",
   "version": "2.7.6"
  }
 },
 "nbformat": 4,
 "nbformat_minor": 0
}
