{
 "metadata": {
  "name": "",
  "signature": "sha256:8ae7e463bd65d9f3c5dd74fadfc0b05103053c73ecca60fc5c8db26e2ec7820b"
 },
 "nbformat": 3,
 "nbformat_minor": 0,
 "worksheets": [
  {
   "cells": [
    {
     "cell_type": "heading",
     "level": 1,
     "metadata": {},
     "source": [
      "Baltimore Arrests Immediately After Freddie Gray"
     ]
    },
    {
     "cell_type": "markdown",
     "metadata": {},
     "source": [
      "Notes"
     ]
    },
    {
     "cell_type": "code",
     "collapsed": false,
     "input": [
      "import sys\n",
      "import pandas as pd\n",
      "import numpy\n",
      "from datetime import datetime\n",
      "import time_parser\n",
      "import import_funcs\n",
      "\n",
      "\n",
      "#import pymc\n",
      "reload(import_funcs)\n",
      "BPD_arrests = import_funcs.import_BPDarrests()"
     ],
     "language": "python",
     "metadata": {},
     "outputs": [],
     "prompt_number": 2
    },
    {
     "cell_type": "code",
     "collapsed": false,
     "input": [
      "BPD_arrests.head()"
     ],
     "language": "python",
     "metadata": {},
     "outputs": [
      {
       "html": [
        "<div style=\"max-height:1000px;max-width:1500px;overflow:auto;\">\n",
        "<table border=\"1\" class=\"dataframe\">\n",
        "  <thead>\n",
        "    <tr style=\"text-align: right;\">\n",
        "      <th></th>\n",
        "      <th>Arrest</th>\n",
        "      <th>Age</th>\n",
        "      <th>Sex</th>\n",
        "      <th>Race</th>\n",
        "      <th>ArrestLocation</th>\n",
        "      <th>IncidentOffense</th>\n",
        "      <th>IncidentLocation</th>\n",
        "      <th>Charge</th>\n",
        "      <th>ChargeDescription</th>\n",
        "      <th>District</th>\n",
        "      <th>Post</th>\n",
        "      <th>Neighborhood</th>\n",
        "      <th>Location 1</th>\n",
        "    </tr>\n",
        "    <tr>\n",
        "      <th>timestamp</th>\n",
        "      <th></th>\n",
        "      <th></th>\n",
        "      <th></th>\n",
        "      <th></th>\n",
        "      <th></th>\n",
        "      <th></th>\n",
        "      <th></th>\n",
        "      <th></th>\n",
        "      <th></th>\n",
        "      <th></th>\n",
        "      <th></th>\n",
        "      <th></th>\n",
        "      <th></th>\n",
        "    </tr>\n",
        "  </thead>\n",
        "  <tbody>\n",
        "    <tr>\n",
        "      <th>2015-10-31 14:00:00</th>\n",
        "      <td> 15164127</td>\n",
        "      <td> 23</td>\n",
        "      <td> M</td>\n",
        "      <td> B</td>\n",
        "      <td>       400 N ROSE ST</td>\n",
        "      <td>   Unknown Offense</td>\n",
        "      <td>       400 N Rose St</td>\n",
        "      <td> 1 0573</td>\n",
        "      <td>        Cds: Possession-Marihuana || Cds Violation</td>\n",
        "      <td> Southeastern</td>\n",
        "      <td> 221</td>\n",
        "      <td>       MCELDERRY PARK</td>\n",
        "      <td> (39.2957035015, -76.5814357143)</td>\n",
        "    </tr>\n",
        "    <tr>\n",
        "      <th>2015-10-31 01:12:00</th>\n",
        "      <td> 15164021</td>\n",
        "      <td> 20</td>\n",
        "      <td> M</td>\n",
        "      <td> B</td>\n",
        "      <td>    400 E PRESTON ST</td>\n",
        "      <td>   Unknown Offense</td>\n",
        "      <td>    400 E Preston St</td>\n",
        "      <td> 2 0480</td>\n",
        "      <td>          Motor Veh/Unlawful Taking || Stolen Auto</td>\n",
        "      <td>      Eastern</td>\n",
        "      <td> 314</td>\n",
        "      <td>      JOHNSTON SQUARE</td>\n",
        "      <td> (39.3047503575, -76.6106600587)</td>\n",
        "    </tr>\n",
        "    <tr>\n",
        "      <th>2015-10-31 23:00:00</th>\n",
        "      <td> 15164226</td>\n",
        "      <td> 49</td>\n",
        "      <td> M</td>\n",
        "      <td> W</td>\n",
        "      <td> 3900 PENNINGTON AVE</td>\n",
        "      <td>   Unknown Offense</td>\n",
        "      <td>                 NaN</td>\n",
        "      <td> 1 4200</td>\n",
        "      <td> Alc. Bev./Intox:Endanger || Attempt Aggravated...</td>\n",
        "      <td>     Southern</td>\n",
        "      <td> 911</td>\n",
        "      <td>           CURTIS BAY</td>\n",
        "      <td> (39.2296920389, -76.5889044701)</td>\n",
        "    </tr>\n",
        "    <tr>\n",
        "      <th>2015-10-31 12:00:00</th>\n",
        "      <td> 15164114</td>\n",
        "      <td> 30</td>\n",
        "      <td> M</td>\n",
        "      <td> W</td>\n",
        "      <td>    3800 EASTERN AVE</td>\n",
        "      <td> 4E-Common Assault</td>\n",
        "      <td>    3800 Eastern Ave</td>\n",
        "      <td> 1 1415</td>\n",
        "      <td>                Asslt-Sec Degree || Common Assault</td>\n",
        "      <td> Southeastern</td>\n",
        "      <td> 224</td>\n",
        "      <td>         HIGHLANDTOWN</td>\n",
        "      <td> (39.2867232389, -76.5649928964)</td>\n",
        "    </tr>\n",
        "    <tr>\n",
        "      <th>2015-10-31 18:55:00</th>\n",
        "      <td> 15164189</td>\n",
        "      <td> 23</td>\n",
        "      <td> M</td>\n",
        "      <td> B</td>\n",
        "      <td> 3700 MANCHESTER AVE</td>\n",
        "      <td>   Unknown Offense</td>\n",
        "      <td> 3700 Manchester Ave</td>\n",
        "      <td> 1 1609</td>\n",
        "      <td>   Firearm Poss W/Fel Convict || Handgun Violation</td>\n",
        "      <td> Northwestern</td>\n",
        "      <td> 614</td>\n",
        "      <td> CENTRAL PARK HEIGHTS</td>\n",
        "      <td> (39.3430602275, -76.6762121763)</td>\n",
        "    </tr>\n",
        "  </tbody>\n",
        "</table>\n",
        "</div>"
       ],
       "metadata": {},
       "output_type": "pyout",
       "prompt_number": 3,
       "text": [
        "                       Arrest  Age Sex Race       ArrestLocation  \\\n",
        "timestamp                                                          \n",
        "2015-10-31 14:00:00  15164127   23   M    B        400 N ROSE ST   \n",
        "2015-10-31 01:12:00  15164021   20   M    B     400 E PRESTON ST   \n",
        "2015-10-31 23:00:00  15164226   49   M    W  3900 PENNINGTON AVE   \n",
        "2015-10-31 12:00:00  15164114   30   M    W     3800 EASTERN AVE   \n",
        "2015-10-31 18:55:00  15164189   23   M    B  3700 MANCHESTER AVE   \n",
        "\n",
        "                       IncidentOffense     IncidentLocation  Charge  \\\n",
        "timestamp                                                             \n",
        "2015-10-31 14:00:00    Unknown Offense        400 N Rose St  1 0573   \n",
        "2015-10-31 01:12:00    Unknown Offense     400 E Preston St  2 0480   \n",
        "2015-10-31 23:00:00    Unknown Offense                  NaN  1 4200   \n",
        "2015-10-31 12:00:00  4E-Common Assault     3800 Eastern Ave  1 1415   \n",
        "2015-10-31 18:55:00    Unknown Offense  3700 Manchester Ave  1 1609   \n",
        "\n",
        "                                                     ChargeDescription  \\\n",
        "timestamp                                                                \n",
        "2015-10-31 14:00:00         Cds: Possession-Marihuana || Cds Violation   \n",
        "2015-10-31 01:12:00           Motor Veh/Unlawful Taking || Stolen Auto   \n",
        "2015-10-31 23:00:00  Alc. Bev./Intox:Endanger || Attempt Aggravated...   \n",
        "2015-10-31 12:00:00                 Asslt-Sec Degree || Common Assault   \n",
        "2015-10-31 18:55:00    Firearm Poss W/Fel Convict || Handgun Violation   \n",
        "\n",
        "                         District  Post          Neighborhood  \\\n",
        "timestamp                                                       \n",
        "2015-10-31 14:00:00  Southeastern   221        MCELDERRY PARK   \n",
        "2015-10-31 01:12:00       Eastern   314       JOHNSTON SQUARE   \n",
        "2015-10-31 23:00:00      Southern   911            CURTIS BAY   \n",
        "2015-10-31 12:00:00  Southeastern   224          HIGHLANDTOWN   \n",
        "2015-10-31 18:55:00  Northwestern   614  CENTRAL PARK HEIGHTS   \n",
        "\n",
        "                                          Location 1  \n",
        "timestamp                                             \n",
        "2015-10-31 14:00:00  (39.2957035015, -76.5814357143)  \n",
        "2015-10-31 01:12:00  (39.3047503575, -76.6106600587)  \n",
        "2015-10-31 23:00:00  (39.2296920389, -76.5889044701)  \n",
        "2015-10-31 12:00:00  (39.2867232389, -76.5649928964)  \n",
        "2015-10-31 18:55:00  (39.3430602275, -76.6762121763)  "
       ]
      }
     ],
     "prompt_number": 3
    },
    {
     "cell_type": "code",
     "collapsed": false,
     "input": [
      "figs = plt.figure(figsize(16,4))\n",
      "BPD_arrests['Arrest'].resample('m',how='count').plot(kind='bar')"
     ],
     "language": "python",
     "metadata": {},
     "outputs": [
      {
       "metadata": {},
       "output_type": "pyout",
       "prompt_number": 4,
       "text": [
        "<matplotlib.axes._subplots.AxesSubplot at 0x1074aba10>"
       ]
      },
      {
       "metadata": {},
       "output_type": "display_data",
       "png": "[encoded data removed]",
       "text": [
        "<matplotlib.figure.Figure at 0x1074ab0d0>"
       ]
      }
     ],
     "prompt_number": 4
    },
    {
     "cell_type": "code",
     "collapsed": false,
     "input": [
      "figs = plt.figure(figsize=[12,4])\n",
      "ax1 = plt.subplot(1,1,1)\n",
      "\n",
      "anncolor = '#aaaaaa'\n",
      "\n",
      "plot_span = BPD_arrests['Arrest'].ix['05-jan-2015':'oct-2015'].resample('w',how='count',label='left')\n",
      "plot_span.plot(kind='bar', grid='off')\n",
      "\n",
      "#ax1.text(0,700,'Weekly Arrests in Baltimore',fontsize=20)\n",
      "# turn off square border around plot\n",
      "ax1.spines[\"top\"].set_visible(False)  \n",
      "ax1.spines[\"bottom\"].set_visible(False)  \n",
      "ax1.spines[\"right\"].set_visible(False)  \n",
      "ax1.spines[\"left\"].set_visible(False)\n",
      "\n",
      "# turn off ticks\n",
      "ax1.tick_params(axis=\"both\", which=\"both\", bottom=\"off\", top=\"off\",\n",
      "               labelbottom=\"on\", left=\"off\", right=\"off\", labelleft=\"on\",labelsize=14)\n",
      "\n",
      "ax1.set_xticklabels([dt.strftime('%b %d') for dt in plot_span.index.to_pydatetime()], \n",
      "                    rotation=90, \n",
      "                    ha='center',\n",
      "                    fontsize=14,\n",
      "                    color=anncolor)\n",
      "\n",
      "ax1.tick_params(axis='y', colors=anncolor)\n",
      "\n",
      "plt.subplots_adjust(left=0.1, right=0.9, top=0.9, bottom=0.25)\n",
      "xlabel('')\n",
      "plt.show()\n",
      "\n",
      "#figs.savefig('plots/baltimore_2015_weekly_arrest_count_thru_may.png', bbox_tight='inches', pad=.2)"
     ],
     "language": "python",
     "metadata": {},
     "outputs": [
      {
       "metadata": {},
       "output_type": "display_data",
       "png": "[encoded data removed]",
       "text": [
        "<matplotlib.figure.Figure at 0x102914f90>"
       ]
      }
     ],
     "prompt_number": 8
    },
    {
     "cell_type": "code",
     "collapsed": false,
     "input": [
      "fig = plt.figure(figsize=[18,4])\n",
      "\n",
      "anncolor = '#aaaaaa'\n",
      "\n",
      "ax1 = plt.subplot(1,1,1)\n",
      "\n",
      "plot_span = BPD_arrests['Arrest'].ix['1-apr-2015':'may-2015'].resample('d',how='count')\n",
      "\n",
      "plot1 = plot(plot_span.index,pd.rolling_mean(plot_span,5),'r',linewidth=3)\n",
      "plot2 = bar(plot_span.index,plot_span, color=anncolor, align='center')\n",
      "\n",
      "import matplotlib.dates as dates\n",
      "ax1.set_xticks(plot_span.index)\n",
      "ax1.set_xticklabels([dt.strftime('%d') for dt in plot_span.index.to_pydatetime()], \n",
      "                    rotation=90, \n",
      "                    fontsize=10,\n",
      "                    ha='center')\n",
      "\n",
      "\n",
      "date_protests = '25-apr-2015'\n",
      "ax1.annotate('Saturday Protests',xy=(pd.to_datetime(date_protests),plot_span.ix['25-apr-15']+2),\n",
      "             xytext=(pd.to_datetime(date_protests),plot_span.ix['25-apr-15']+50),\n",
      "             horizontalalignment='right',\n",
      "             fontsize=16,\n",
      "             color=anncolor,\n",
      "             arrowprops=dict(color=anncolor,\n",
      "                             width=0.1,\n",
      "                             headwidth=0.0,\n",
      "                             shrink=0.05))\n",
      "\n",
      "date_riots = '27-apr-2015'\n",
      "ax1.annotate('Monday Riots',xy=(pd.to_datetime(date_riots),plot_span.ix['27-apr-15']+2),\n",
      "             xytext=(pd.to_datetime(date_riots),plot_span.ix['27-apr-15']+50),\n",
      "             horizontalalignment='right',\n",
      "             fontsize=16,\n",
      "             color=anncolor,\n",
      "             arrowprops=dict(color=anncolor,\n",
      "                             width=0.1,\n",
      "                             headwidth=0.0,\n",
      "                             shrink=0.05))\n",
      "\n",
      "date_charged = '01-may-2015'\n",
      "ax1.annotate('Officers Charged',xy=(pd.to_datetime(date_charged),plot_span.ix[date_charged]+2),\n",
      "             xytext=(pd.to_datetime(date_charged),plot_span.ix[date_charged]+50),\n",
      "             horizontalalignment='left',\n",
      "             fontsize=16,\n",
      "             color=anncolor,\n",
      "             arrowprops=dict(color=anncolor,\n",
      "                             width=0.1,\n",
      "                             headwidth=0.0,\n",
      "                             shrink=0.05))\n",
      "\n",
      "\n",
      "#ax1.text(0,800,'Daily Arrests in Baltimore',fontsize=20)\n",
      "# turn off square border around plot\n",
      "ax1.spines[\"top\"].set_visible(False)  \n",
      "ax1.spines[\"bottom\"].set_visible(False)  \n",
      "ax1.spines[\"right\"].set_visible(False)  \n",
      "ax1.spines[\"left\"].set_visible(False)\n",
      "\n",
      "# turn off ticks\n",
      "ax1.tick_params(axis=\"both\", which=\"both\", bottom=\"off\", top=\"off\",\n",
      "               labelbottom=\"on\", left=\"off\", right=\"off\", labelleft=\"on\",labelsize=14)\n",
      "grid('off')\n",
      "\n",
      "legend(['5-day Moving Average'],framealpha=0)\n",
      "\n",
      "ax1.tick_params(axis='x', colors=anncolor)\n",
      "ax1.tick_params(axis='y', colors=anncolor)\n",
      "xlabel('')\n",
      "ylabel('Arrests',color=anncolor,fontsize=16)\n",
      "\n",
      "plt.subplots_adjust(left=0.1, right=0.9, top=0.9, bottom=0.2)\n",
      "\n",
      "ax1.text(pd.to_datetime('1-apr-2015'),-30,'April',fontsize=14,color=anncolor,ha='center')\n",
      "ax1.text(pd.to_datetime('1-may-2015'),-30,'May',fontsize=14,color=anncolor,ha='center')\n",
      "\n",
      "plt.show()\n",
      "\n",
      "#fig.savefig('plots/baltimore_daily_arrest_count_around_FG.png', bbox_tight='inches')\n"
     ],
     "language": "python",
     "metadata": {},
     "outputs": [
      {
       "metadata": {},
       "output_type": "display_data",
       "png": "[encoded data removed]",
       "text": [
        "<matplotlib.figure.Figure at 0x107acf050>"
       ]
      }
     ],
     "prompt_number": 9
    },
    {
     "cell_type": "code",
     "collapsed": false,
     "input": [
      "BPD_arrests['Arrest'].ix['apr-2015'].count()"
     ],
     "language": "python",
     "metadata": {},
     "outputs": [
      {
       "metadata": {},
       "output_type": "pyout",
       "prompt_number": 5,
       "text": [
        "2438"
       ]
      }
     ],
     "prompt_number": 5
    },
    {
     "cell_type": "code",
     "collapsed": false,
     "input": [
      "BPD_arrests['Arrest'].ix['may-2015'].count()"
     ],
     "language": "python",
     "metadata": {},
     "outputs": [
      {
       "metadata": {},
       "output_type": "pyout",
       "prompt_number": 6,
       "text": [
        "1449"
       ]
      }
     ],
     "prompt_number": 6
    },
    {
     "cell_type": "code",
     "collapsed": false,
     "input": [
      "float(BPD_arrests['Arrest'].ix['apr-2015'].count()-BPD_arrests['Arrest'].ix['may-2015'].count())/float(BPD_arrests['Arrest'].ix['apr-2015'].count())"
     ],
     "language": "python",
     "metadata": {},
     "outputs": [
      {
       "metadata": {},
       "output_type": "pyout",
       "prompt_number": 9,
       "text": [
        "0.4056603773584906"
       ]
      }
     ],
     "prompt_number": 9
    },
    {
     "cell_type": "heading",
     "level": 1,
     "metadata": {},
     "source": [
      "Preliminary work for location-based shifts in policing"
     ]
    },
    {
     "cell_type": "code",
     "collapsed": false,
     "input": [
      "def parse_lat_long(df):\n",
      "    \n",
      "    temp = df['Location 1'].str.strip('(').str.strip(')')\n",
      "    temp = temp.apply(lambda x: str(x).split(','))\n",
      "    \n",
      "    df['lat'] = pd.Series()\n",
      "    df['long'] = pd.Series()\n",
      "    \n",
      "    for i, j in enumerate(temp):\n",
      "        if size(temp[i]) == 0:\n",
      "            df['lat'].ix[i] = 'NaN'\n",
      "        else:\n",
      "            df['lat'].ix[i] = temp[i].iloc[0]            \n",
      "        \n",
      "#    for k, l in enumerate(temp):\n",
      "#        if size(temp[k]) == 0:\n",
      "#            df['long'].ix[k] = 'NaN'\n",
      "#        else:\n",
      "#            df['long'].ix[k] = temp[k].iloc[1]\n",
      "            \n",
      "    return df"
     ],
     "language": "python",
     "metadata": {},
     "outputs": [],
     "prompt_number": 194
    },
    {
     "cell_type": "code",
     "collapsed": false,
     "input": [],
     "language": "python",
     "metadata": {},
     "outputs": []
    },
    {
     "cell_type": "code",
     "collapsed": false,
     "input": [
      "#march_arrests = parse_lat_long(BPD_arrests.ix['march-2015'])\n",
      "#april_arrests = parse_lat_long(BPD_arrests.ix['apr-2015'])\n",
      "may_arrests = parse_lat_long(BPD_arrests.ix['may-2015'])\n",
      "\n",
      "#BPD_arrests.to_csv('BPD_arrests_2015-06-11_lat_long.csv')\n",
      "    \n",
      "    "
     ],
     "language": "python",
     "metadata": {},
     "outputs": [],
     "prompt_number": 195
    },
    {
     "cell_type": "code",
     "collapsed": false,
     "input": [],
     "language": "python",
     "metadata": {},
     "outputs": [],
     "prompt_number": 387
    },
    {
     "cell_type": "code",
     "collapsed": false,
     "input": [],
     "language": "python",
     "metadata": {},
     "outputs": [],
     "prompt_number": 387
    },
    {
     "cell_type": "code",
     "collapsed": false,
     "input": [
      "march_arrests['lat'][march_arrests['lat']!='nan'].count() / float(march_arrests['lat'].count())"
     ],
     "language": "python",
     "metadata": {},
     "outputs": [
      {
       "metadata": {},
       "output_type": "pyout",
       "prompt_number": 187,
       "text": [
        "0.56013240161824196"
       ]
      }
     ],
     "prompt_number": 187
    },
    {
     "cell_type": "code",
     "collapsed": false,
     "input": [],
     "language": "python",
     "metadata": {},
     "outputs": []
    },
    {
     "cell_type": "code",
     "collapsed": false,
     "input": [],
     "language": "python",
     "metadata": {},
     "outputs": []
    },
    {
     "cell_type": "code",
     "collapsed": false,
     "input": [
      "import urllib2"
     ],
     "language": "python",
     "metadata": {},
     "outputs": [],
     "prompt_number": 6
    },
    {
     "cell_type": "code",
     "collapsed": false,
     "input": [
      "address = 'https://data.baltimorecity.gov/resource/wsfq-mvij.json'\n"
     ],
     "language": "python",
     "metadata": {},
     "outputs": [],
     "prompt_number": 7
    },
    {
     "cell_type": "code",
     "collapsed": false,
     "input": [],
     "language": "python",
     "metadata": {},
     "outputs": []
    },
    {
     "cell_type": "code",
     "collapsed": false,
     "input": [],
     "language": "python",
     "metadata": {},
     "outputs": []
    }
   ],
   "metadata": {}
  }
 ]
}