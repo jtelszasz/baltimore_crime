{
 "cells": [
  {
   "cell_type": "markdown",
   "metadata": {},
   "source": [
    "# Does Maryland marijuana policy change account for drop in arrests in Baltimore?  (A: No.)"
   ]
  },
  {
   "cell_type": "code",
   "execution_count": 3,
   "metadata": {
    "collapsed": false
   },
   "outputs": [
    {
     "name": "stdout",
     "output_type": "stream",
     "text": [
      "Populating the interactive namespace from numpy and matplotlib\n"
     ]
    }
   ],
   "source": [
    "%pylab inline\n",
    "import pandas as pd\n",
    "import import_funcs"
   ]
  },
  {
   "cell_type": "code",
   "execution_count": 50,
   "metadata": {
    "collapsed": false
   },
   "outputs": [
    {
     "data": {
      "text/html": [
       "<div style=\"max-height:1000px;max-width:1500px;overflow:auto;\">\n",
       "<table border=\"1\" class=\"dataframe\">\n",
       "  <thead>\n",
       "    <tr style=\"text-align: right;\">\n",
       "      <th></th>\n",
       "      <th>Arrest</th>\n",
       "      <th>Age</th>\n",
       "      <th>Sex</th>\n",
       "      <th>Race</th>\n",
       "      <th>ArrestLocation</th>\n",
       "      <th>IncidentOffense</th>\n",
       "      <th>IncidentLocation</th>\n",
       "      <th>Charge</th>\n",
       "      <th>ChargeDescription</th>\n",
       "      <th>District</th>\n",
       "      <th>Post</th>\n",
       "      <th>Neighborhood</th>\n",
       "      <th>Location 1</th>\n",
       "      <th>ChargeDescr1</th>\n",
       "      <th>ChargeDescr2</th>\n",
       "    </tr>\n",
       "    <tr>\n",
       "      <th>timestamp</th>\n",
       "      <th></th>\n",
       "      <th></th>\n",
       "      <th></th>\n",
       "      <th></th>\n",
       "      <th></th>\n",
       "      <th></th>\n",
       "      <th></th>\n",
       "      <th></th>\n",
       "      <th></th>\n",
       "      <th></th>\n",
       "      <th></th>\n",
       "      <th></th>\n",
       "      <th></th>\n",
       "      <th></th>\n",
       "      <th></th>\n",
       "    </tr>\n",
       "  </thead>\n",
       "  <tbody>\n",
       "    <tr>\n",
       "      <th>2016-01-02 00:47:00</th>\n",
       "      <td> 16000242</td>\n",
       "      <td> 44</td>\n",
       "      <td> M</td>\n",
       "      <td> W</td>\n",
       "      <td>    S CONKLING ST</td>\n",
       "      <td> Unknown Offense</td>\n",
       "      <td>              NaN</td>\n",
       "      <td>    NaN</td>\n",
       "      <td>                  Driving Without License</td>\n",
       "      <td> Southeastern</td>\n",
       "      <td> 231</td>\n",
       "      <td>            CANTON</td>\n",
       "      <td> (39.2771497510, -76.5665475783)</td>\n",
       "      <td>    Driving Without License</td>\n",
       "      <td>             </td>\n",
       "    </tr>\n",
       "    <tr>\n",
       "      <th>2016-01-02 11:50:00</th>\n",
       "      <td> 16000300</td>\n",
       "      <td> 54</td>\n",
       "      <td> M</td>\n",
       "      <td> B</td>\n",
       "      <td> 700 GLENWOOD AVE</td>\n",
       "      <td> Unknown Offense</td>\n",
       "      <td> 700 Glenwood Ave</td>\n",
       "      <td> 4 3550</td>\n",
       "      <td>         Cds:Possess-Not Marihuana || Cds</td>\n",
       "      <td>     Northern</td>\n",
       "      <td> 524</td>\n",
       "      <td> WOODBOURNE-MCCABE</td>\n",
       "      <td> (39.3534309891, -76.6063442127)</td>\n",
       "      <td> Cds:Possess-Not Marihuana </td>\n",
       "      <td>          Cds</td>\n",
       "    </tr>\n",
       "    <tr>\n",
       "      <th>2016-01-02 17:30:00</th>\n",
       "      <td> 16000365</td>\n",
       "      <td> 28</td>\n",
       "      <td> M</td>\n",
       "      <td> B</td>\n",
       "      <td>   600 DENISON ST</td>\n",
       "      <td> Unknown Offense</td>\n",
       "      <td>   600 Denison St</td>\n",
       "      <td> 4 3550</td>\n",
       "      <td> Cds:Possess-Not Marihuana || Pwi Cocaine</td>\n",
       "      <td> Southwestern</td>\n",
       "      <td> 815</td>\n",
       "      <td>          EDGEWOOD</td>\n",
       "      <td> (39.2945294368, -76.6741877803)</td>\n",
       "      <td> Cds:Possess-Not Marihuana </td>\n",
       "      <td>  Pwi Cocaine</td>\n",
       "    </tr>\n",
       "  </tbody>\n",
       "</table>\n",
       "</div>"
      ],
      "text/plain": [
       "                       Arrest  Age Sex Race    ArrestLocation  \\\n",
       "timestamp                                                       \n",
       "2016-01-02 00:47:00  16000242   44   M    W     S CONKLING ST   \n",
       "2016-01-02 11:50:00  16000300   54   M    B  700 GLENWOOD AVE   \n",
       "2016-01-02 17:30:00  16000365   28   M    B    600 DENISON ST   \n",
       "\n",
       "                     IncidentOffense  IncidentLocation  Charge  \\\n",
       "timestamp                                                        \n",
       "2016-01-02 00:47:00  Unknown Offense               NaN     NaN   \n",
       "2016-01-02 11:50:00  Unknown Offense  700 Glenwood Ave  4 3550   \n",
       "2016-01-02 17:30:00  Unknown Offense    600 Denison St  4 3550   \n",
       "\n",
       "                                            ChargeDescription      District  \\\n",
       "timestamp                                                                     \n",
       "2016-01-02 00:47:00                   Driving Without License  Southeastern   \n",
       "2016-01-02 11:50:00          Cds:Possess-Not Marihuana || Cds      Northern   \n",
       "2016-01-02 17:30:00  Cds:Possess-Not Marihuana || Pwi Cocaine  Southwestern   \n",
       "\n",
       "                     Post       Neighborhood                       Location 1  \\\n",
       "timestamp                                                                       \n",
       "2016-01-02 00:47:00   231             CANTON  (39.2771497510, -76.5665475783)   \n",
       "2016-01-02 11:50:00   524  WOODBOURNE-MCCABE  (39.3534309891, -76.6063442127)   \n",
       "2016-01-02 17:30:00   815           EDGEWOOD  (39.2945294368, -76.6741877803)   \n",
       "\n",
       "                                   ChargeDescr1  ChargeDescr2  \n",
       "timestamp                                                      \n",
       "2016-01-02 00:47:00     Driving Without License                \n",
       "2016-01-02 11:50:00  Cds:Possess-Not Marihuana            Cds  \n",
       "2016-01-02 17:30:00  Cds:Possess-Not Marihuana    Pwi Cocaine  "
      ]
     },
     "execution_count": 50,
     "metadata": {},
     "output_type": "execute_result"
    }
   ],
   "source": [
    "BPD_arrests = import_funcs.import_BPDarrests()\n",
    "\n",
    "# A little bit of processing/clean-up - this breaks 'ChargeDescription' field in two, divided at '||'\n",
    "BPD_arrests['ChargeDescr1'] = BPD_arrests.ChargeDescription.apply(lambda x: str(x).split('||')[0])\n",
    "BPD_arrests['ChargeDescr2'] = BPD_arrests.ChargeDescription.apply(lambda x: str(x).split('||')[1] if len(str(x).split('||'))>1 else '')\n",
    "BPD_arrests.Neighborhood = BPD_arrests.Neighborhood.str.upper()\n",
    "\n",
    "BPD_arrests.head(3)"
   ]
  },
  {
   "cell_type": "markdown",
   "metadata": {},
   "source": [
    "First get all arrests with charge descriptions (both 'ChargeDescr1' and 'ChargeDescr2') that contain 'marihuana'.  From that set, remove any records that contain  'not marihuana' in charge descriptions."
   ]
  },
  {
   "cell_type": "code",
   "execution_count": 52,
   "metadata": {
    "collapsed": false
   },
   "outputs": [
    {
     "data": {
      "text/plain": [
       "array(['Cds:Possess-Not Marihuana ', 'Cds: Possession-Marihuana ',\n",
       "       'Cds:Admin - Not Marihuana ', 'Con-Cds:Possess-Not Marihuana ',\n",
       "       'Att-Cds:Possess-Not Marihuana ', 'Cds: Poss Marihuana L/T 10 G ',\n",
       "       'Con-Cds: Possession - Marihuana ', 'Asslt-Sec Degree ',\n",
       "       'Att-Cds Manuf/Dist. ', 'Cds: Poss Marihuana L/T 10 G |',\n",
       "       'Possession Of Marihuana', 'Cds:Poss Para ',\n",
       "       'Cds Possession Of Marihuana', 'Cds Poss W/Int To Dist ',\n",
       "       'Att-Cds: Possession - Marihuana '], dtype=object)"
      ]
     },
     "execution_count": 52,
     "metadata": {},
     "output_type": "execute_result"
    }
   ],
   "source": [
    "marijuanaAndNot = BPD_arrests[BPD_arrests['ChargeDescr1'].str.contains('Marihuana', case=False) | BPD_arrests['ChargeDescr2'].str.contains('Marihuana', case=False)]\n",
    "marijuanaAndNot['ChargeDescr1'].unique()"
   ]
  },
  {
   "cell_type": "code",
   "execution_count": 53,
   "metadata": {
    "collapsed": false
   },
   "outputs": [
    {
     "data": {
      "text/plain": [
       "array(['Cds: Possession-Marihuana ', 'Cds: Poss Marihuana L/T 10 G ',\n",
       "       'Con-Cds: Possession - Marihuana ', 'Att-Cds Manuf/Dist. ',\n",
       "       'Cds: Poss Marihuana L/T 10 G |', 'Possession Of Marihuana',\n",
       "       'Cds:Poss Para ', 'Cds Possession Of Marihuana',\n",
       "       'Cds Poss W/Int To Dist ', 'Att-Cds: Possession - Marihuana '], dtype=object)"
      ]
     },
     "execution_count": 53,
     "metadata": {},
     "output_type": "execute_result"
    }
   ],
   "source": [
    "marijuana = marijuanaAndNot[~marijuanaAndNot['ChargeDescr1'].str.contains('Not Marihuana', case=False) & ~marijuanaAndNot['ChargeDescr2'].str.contains('Not Marihuana', case=False)]\n",
    "marijuana['ChargeDescr1'].unique()"
   ]
  },
  {
   "cell_type": "markdown",
   "metadata": {},
   "source": [
    "Calculate statistics around changes in arrest counts."
   ]
  },
  {
   "cell_type": "code",
   "execution_count": 55,
   "metadata": {
    "collapsed": false
   },
   "outputs": [
    {
     "data": {
      "text/html": [
       "<div style=\"max-height:1000px;max-width:1500px;overflow:auto;\">\n",
       "<table border=\"1\" class=\"dataframe\">\n",
       "  <thead>\n",
       "    <tr style=\"text-align: right;\">\n",
       "      <th></th>\n",
       "      <th>Arrest</th>\n",
       "      <th>Marijuana</th>\n",
       "      <th>MarijuanaRatio</th>\n",
       "      <th>ArrestsPctChg</th>\n",
       "      <th>MarijuanaPctChg</th>\n",
       "      <th>MarijuanaPortionOfChg</th>\n",
       "    </tr>\n",
       "  </thead>\n",
       "  <tbody>\n",
       "    <tr>\n",
       "      <th>2013</th>\n",
       "      <td> 39886</td>\n",
       "      <td> 5411</td>\n",
       "      <td> 0.135662</td>\n",
       "      <td>      NaN</td>\n",
       "      <td>      NaN</td>\n",
       "      <td>      NaN</td>\n",
       "    </tr>\n",
       "    <tr>\n",
       "      <th>2014</th>\n",
       "      <td> 36924</td>\n",
       "      <td> 3254</td>\n",
       "      <td> 0.088127</td>\n",
       "      <td>-0.074262</td>\n",
       "      <td>-0.398632</td>\n",
       "      <td> 0.728224</td>\n",
       "    </tr>\n",
       "    <tr>\n",
       "      <th>2015</th>\n",
       "      <td> 26308</td>\n",
       "      <td>  500</td>\n",
       "      <td> 0.019006</td>\n",
       "      <td>-0.287509</td>\n",
       "      <td>-0.846343</td>\n",
       "      <td> 0.259420</td>\n",
       "    </tr>\n",
       "  </tbody>\n",
       "</table>\n",
       "</div>"
      ],
      "text/plain": [
       "      Arrest  Marijuana  MarijuanaRatio  ArrestsPctChg  MarijuanaPctChg  \\\n",
       "2013   39886       5411        0.135662            NaN              NaN   \n",
       "2014   36924       3254        0.088127      -0.074262        -0.398632   \n",
       "2015   26308        500        0.019006      -0.287509        -0.846343   \n",
       "\n",
       "      MarijuanaPortionOfChg  \n",
       "2013                    NaN  \n",
       "2014               0.728224  \n",
       "2015               0.259420  "
      ]
     },
     "execution_count": 55,
     "metadata": {},
     "output_type": "execute_result"
    }
   ],
   "source": [
    "yearly = pd.DataFrame(BPD_arrests['Arrest'].groupby(BPD_arrests.index.year).count()).drop(2016)\n",
    "\n",
    "yearly['Marijuana'] = marijuana['Arrest'].groupby(marijuana.index.year).count()\n",
    "yearly['MarijuanaRatio'] = yearly['Marijuana'] / yearly['Arrest']\n",
    "yearly['ArrestsPctChg'] = yearly['Arrest'].pct_change()\n",
    "yearly['MarijuanaPctChg'] = yearly['Marijuana'].pct_change()\n",
    "yearly['MarijuanaPortionOfChg'] = yearly['Marijuana'].diff() / yearly['Arrest'].diff()\n",
    "\n",
    "yearly"
   ]
  },
  {
   "cell_type": "code",
   "execution_count": 49,
   "metadata": {
    "collapsed": false
   },
   "outputs": [
    {
     "data": {
      "text/plain": [
       "2013    13.566164\n",
       "2014     8.812696\n",
       "2015     1.900563\n",
       "Name: MarijuanaRatio, dtype: float64"
      ]
     },
     "execution_count": 49,
     "metadata": {},
     "output_type": "execute_result"
    }
   ],
   "source": [
    "yearly['MarijuanaRatio'] *100"
   ]
  },
  {
   "cell_type": "code",
   "execution_count": null,
   "metadata": {
    "collapsed": true
   },
   "outputs": [],
   "source": []
  }
 ],
 "metadata": {
  "kernelspec": {
   "display_name": "Python 2",
   "language": "python",
   "name": "python2"
  },
  "language_info": {
   "codemirror_mode": {
    "name": "ipython",
    "version": 2
   },
   "file_extension": ".py",
   "mimetype": "text/x-python",
   "name": "python",
   "nbconvert_exporter": "python",
   "pygments_lexer": "ipython2",
   "version": "2.7.6"
  }
 },
 "nbformat": 4,
 "nbformat_minor": 0
}
