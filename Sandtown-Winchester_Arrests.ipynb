{
 "cells": [
  {
   "cell_type": "markdown",
   "metadata": {},
   "source": [
    "# Arrests in Sandtown-Winchester, Baltimore, MD"
   ]
  },
  {
   "cell_type": "markdown",
   "metadata": {},
   "source": [
    "A lot has been written regarding the Sandtown-Winchester neighborhood in West Baltimore, the community where Freddie Gray lived and was arrested.  This is just a quick dive into crime data in his neighborhood to get a better picture of what life is like there. <br>\n",
    "\n",
    "Data obtained from <a href='http://data.baltimorecity.gov'>Open Baltimore</a>.<br>\n",
    "\n",
    "Created by Justin Elszasz, May 2, 2015"
   ]
  },
  {
   "cell_type": "code",
   "execution_count": 1,
   "metadata": {
    "collapsed": false
   },
   "outputs": [
    {
     "name": "stdout",
     "output_type": "stream",
     "text": [
      "Populating the interactive namespace from numpy and matplotlib\n"
     ]
    }
   ],
   "source": [
    "%pylab inline\n",
    "\n",
    "import sys\n",
    "import pandas as pd\n",
    "import numpy\n",
    "from datetime import datetime\n",
    "import time_parser\n",
    "import import_funcs\n",
    "#reload(import_funcs)\n",
    "BPD_arrests = import_funcs.import_BPDarrests()"
   ]
  },
  {
   "cell_type": "code",
   "execution_count": 2,
   "metadata": {
    "collapsed": false
   },
   "outputs": [
    {
     "name": "stdout",
     "output_type": "stream",
     "text": [
      "2140 247 254 184\n"
     ]
    }
   ],
   "source": [
    "grouped = BPD_arrests.groupby('Neighborhood')\n",
    "# sandtown named two different ways:\n",
    "sandtown = ['Sandtown-Winchester','SANDTOWN-WINCHESTER']\n",
    "sandtown_arrests = grouped.get_group(sandtown[0])\n",
    "sandtown_arrests = sandtown_arrests.append(grouped.get_group(sandtown[1]))\n",
    "sandtown_arrests.sort(ascending=True, inplace=True)\n",
    "\n",
    "fedhill = ['Federal Hill','FEDERAL HILL']\n",
    "fedhill_arrests = grouped.get_group(fedhill[0])\n",
    "fedhill_arrests = fedhill_arrests.append(grouped.get_group(fedhill[1]))\n",
    "fedhill_arrests.sort(ascending=True, inplace=True)\n",
    "\n",
    "canton = ['Canton','CANTON']\n",
    "canton_arrests = grouped.get_group(canton[0])\n",
    "canton_arrests = canton_arrests.append(grouped.get_group(canton[1]))\n",
    "canton_arrests.sort(ascending=True, inplace=True)\n",
    "\n",
    "midtownbel = ['Mid-Town Belvedere','MID-TOWN BELVEDERE']\n",
    "midtownbel_arrests = grouped.get_group(midtownbel[0])\n",
    "midtownbel_arrests = midtownbel_arrests.append(grouped.get_group(midtownbel[1]))\n",
    "midtownbel_arrests.sort(ascending=True, inplace=True)\n",
    "\n",
    "print len(sandtown_arrests), len(fedhill_arrests), len(canton_arrests), len(midtownbel_arrests)"
   ]
  },
  {
   "cell_type": "markdown",
   "metadata": {},
   "source": [
    "# Total Monthly Arrests in Sandtown-Winchester"
   ]
  },
  {
   "cell_type": "code",
   "execution_count": 3,
   "metadata": {
    "collapsed": false
   },
   "outputs": [
    {
     "data": {
      "image/png": "[encoded data removed]",
      "text/plain": [
       "<matplotlib.figure.Figure at 0x108ab8c90>"
      ]
     },
     "metadata": {},
     "output_type": "display_data"
    }
   ],
   "source": [
    "fig = plt.figure(figsize(16,4))\n",
    "\n",
    "sandtown_arrests.Arrest.resample('m',how='count').plot(kind='bar')\n",
    "\n",
    "plt.show()"
   ]
  },
  {
   "cell_type": "markdown",
   "metadata": {},
   "source": [
    "v"
   ]
  },
  {
   "cell_type": "code",
   "execution_count": 4,
   "metadata": {
    "collapsed": false
   },
   "outputs": [
    {
     "name": "stdout",
     "output_type": "stream",
     "text": [
      "The average number of arrests in one week in Sandtown-Winchester is 14.1\n",
      "or about 2.0 per day.\n"
     ]
    }
   ],
   "source": [
    "print 'The average number of arrests in one week in Sandtown-Winchester is',round(sandtown_arrests.Arrest.resample('w',how='count').mean(),1)\n",
    "print 'or about', round(sandtown_arrests.Arrest.resample('d',how='count').mean(),1),'per day.'"
   ]
  },
  {
   "cell_type": "markdown",
   "metadata": {},
   "source": [
    "# Here are the top 20 arrest categories."
   ]
  },
  {
   "cell_type": "code",
   "execution_count": 5,
   "metadata": {
    "collapsed": false
   },
   "outputs": [
    {
     "data": {
      "text/plain": [
       "ChargeDescription\n",
       "Cds:Possess-Not Marihuana || Cds Violation       242\n",
       "Cds:Possess-Not Marihuana || Cds                 132\n",
       "Trespass-Posted Property || Trespassing           49\n",
       "Cds: Poss Marihuana L/T 10 G || Cds Violation     48\n",
       "Cds:Possess-Not Marihuana || Poss Heroin          45\n",
       "Cds: Possession-Marihuana || Cds Violation        41\n",
       "Cds:Possess-Not Marihuana || Cds Poss             41\n",
       "Att-Cds Manuf/Dist-Narc || Cds Violation          39\n",
       "Cds: Poss Marihuana L/T 10 G || Cds               37\n",
       "Cds:Possess-Not Marihuana || Cds Possession       35\n",
       "Asslt-Sec Degree || Common Assault                35\n",
       "Cds:P W/I Dist:Narc || Cds                        31\n",
       "Asslt-Sec Degree || Assault                       28\n",
       "Gaming/Cards- Dice- Etc. || Gambling              28\n",
       "Cds: Possession-Marihuana || Cds                  25\n",
       "Cds Manuf/Dist-Narc || Cds Violation              24\n",
       "Dis.Erly Conduct || Disorderly Conduct            23\n",
       "Att-Cds Manuf/Dist-Narc || Cds                    21\n",
       "Cds:P W/I Dist:Narc || Cds Violation              18\n",
       "Unknown Charge                                    17\n",
       "Name: Arrest, dtype: int64"
      ]
     },
     "execution_count": 5,
     "metadata": {},
     "output_type": "execute_result"
    }
   ],
   "source": [
    "sandtown_arrest_type_counts = sandtown_arrests.groupby('ChargeDescription')['Arrest'].count()\n",
    "sandtown_arrest_type_counts.sort(ascending=False, inplace=True)\n",
    "sandtown_arrest_type_counts[:20]"
   ]
  },
  {
   "cell_type": "code",
   "execution_count": 7,
   "metadata": {
    "collapsed": false
   },
   "outputs": [],
   "source": [
    "#sandtown_arrest_type_counts.iloc[list(pd.Series(sandtown_arrest_type_counts.index).str.contains('Marihuana'))].sum()\n"
   ]
  },
  {
   "cell_type": "code",
   "execution_count": 8,
   "metadata": {
    "collapsed": false
   },
   "outputs": [
    {
     "data": {
      "text/plain": [
       "709"
      ]
     },
     "execution_count": 8,
     "metadata": {},
     "output_type": "execute_result"
    }
   ],
   "source": [
    "sandtown_arrest_type_counts.iloc[list(pd.Series(sandtown_arrest_type_counts.index).str.contains('Not Marihuana'))].sum()"
   ]
  },
  {
   "cell_type": "code",
   "execution_count": 9,
   "metadata": {
    "collapsed": false
   },
   "outputs": [
    {
     "data": {
      "text/plain": [
       "15"
      ]
     },
     "execution_count": 9,
     "metadata": {},
     "output_type": "execute_result"
    }
   ],
   "source": [
    "sandtown_arrest_type_counts.iloc[list(pd.Series(sandtown_arrest_type_counts.index).str.contains('Deadly'))].sum()"
   ]
  },
  {
   "cell_type": "code",
   "execution_count": 25,
   "metadata": {
    "collapsed": false
   },
   "outputs": [],
   "source": [
    "sandtown_arrests['ChargeDescr1'] = sandtown_arrests.ChargeDescription.apply(lambda x: str(x).split('||')[0])\n",
    "sandtown_arrests['ChargeDescr2'] = sandtown_arrests.ChargeDescription.apply(lambda x: str(x).split('||')[1] if len(str(x).split('||'))>1 else '')\n",
    "\n",
    "canton_arrests['ChargeDescr1'] = canton_arrests.ChargeDescription.apply(lambda x: str(x).split('||')[0])\n",
    "canton_arrests['ChargeDescr2'] = canton_arrests.ChargeDescription.apply(lambda x: str(x).split('||')[1] if len(str(x).split('||'))>1 else '')\n",
    "\n",
    "fedhill_arrests['ChargeDescr1'] = fedhill_arrests.ChargeDescription.apply(lambda x: str(x).split('||')[0])\n",
    "fedhill_arrests['ChargeDescr2'] = fedhill_arrests.ChargeDescription.apply(lambda x: str(x).split('||')[1] if len(str(x).split('||'))>1 else '')"
   ]
  },
  {
   "cell_type": "code",
   "execution_count": 26,
   "metadata": {
    "collapsed": false
   },
   "outputs": [
    {
     "name": "stdout",
     "output_type": "stream",
     "text": [
      "117 360\n"
     ]
    }
   ],
   "source": [
    "print len(sandtown_arrests['ChargeDescr1'].unique()), len(sandtown_arrests['ChargeDescr2'].unique())"
   ]
  },
  {
   "cell_type": "code",
   "execution_count": 10,
   "metadata": {
    "collapsed": false
   },
   "outputs": [
    {
     "ename": "KeyError",
     "evalue": "'ChargeDescr1'",
     "output_type": "error",
     "traceback": [
      "\u001b[0;31m---------------------------------------------------------------------------\u001b[0m\n\u001b[0;31mKeyError\u001b[0m                                  Traceback (most recent call last)",
      "\u001b[0;32m<ipython-input-10-c984715b8b47>\u001b[0m in \u001b[0;36m<module>\u001b[0;34m()\u001b[0m\n\u001b[0;32m----> 1\u001b[0;31m \u001b[0mst_gb_ChargeDescr1\u001b[0m \u001b[0;34m=\u001b[0m \u001b[0msandtown_arrests\u001b[0m\u001b[0;34m.\u001b[0m\u001b[0mgroupby\u001b[0m\u001b[0;34m(\u001b[0m\u001b[0msandtown_arrests\u001b[0m\u001b[0;34m[\u001b[0m\u001b[0;34m'ChargeDescr1'\u001b[0m\u001b[0;34m]\u001b[0m\u001b[0;34m)\u001b[0m\u001b[0;34m\u001b[0m\u001b[0m\n\u001b[0m\u001b[1;32m      2\u001b[0m \u001b[0mst_ChargeDescr1_counts\u001b[0m \u001b[0;34m=\u001b[0m \u001b[0mst_gb_ChargeDescr1\u001b[0m\u001b[0;34m[\u001b[0m\u001b[0;34m'Arrest'\u001b[0m\u001b[0;34m]\u001b[0m\u001b[0;34m.\u001b[0m\u001b[0mcount\u001b[0m\u001b[0;34m(\u001b[0m\u001b[0;34m)\u001b[0m\u001b[0;34m\u001b[0m\u001b[0m\n\u001b[1;32m      3\u001b[0m \u001b[0mst_ChargeDescr1_counts\u001b[0m\u001b[0;34m.\u001b[0m\u001b[0msort\u001b[0m\u001b[0;34m(\u001b[0m\u001b[0mascending\u001b[0m\u001b[0;34m=\u001b[0m\u001b[0mFalse\u001b[0m\u001b[0;34m,\u001b[0m \u001b[0minplace\u001b[0m\u001b[0;34m=\u001b[0m\u001b[0mTrue\u001b[0m\u001b[0;34m)\u001b[0m\u001b[0;34m\u001b[0m\u001b[0m\n\u001b[1;32m      4\u001b[0m \u001b[0;32mprint\u001b[0m \u001b[0mst_ChargeDescr1_counts\u001b[0m\u001b[0;34m[\u001b[0m\u001b[0;34m:\u001b[0m\u001b[0;36m25\u001b[0m\u001b[0;34m]\u001b[0m\u001b[0;34m\u001b[0m\u001b[0m\n",
      "\u001b[0;32m/Users/Justin/Library/Enthought/Canopy_64bit/User/lib/python2.7/site-packages/pandas/core/frame.pyc\u001b[0m in \u001b[0;36m__getitem__\u001b[0;34m(self, key)\u001b[0m\n\u001b[1;32m   1778\u001b[0m             \u001b[0;32mreturn\u001b[0m \u001b[0mself\u001b[0m\u001b[0;34m.\u001b[0m\u001b[0m_getitem_multilevel\u001b[0m\u001b[0;34m(\u001b[0m\u001b[0mkey\u001b[0m\u001b[0;34m)\u001b[0m\u001b[0;34m\u001b[0m\u001b[0m\n\u001b[1;32m   1779\u001b[0m         \u001b[0;32melse\u001b[0m\u001b[0;34m:\u001b[0m\u001b[0;34m\u001b[0m\u001b[0m\n\u001b[0;32m-> 1780\u001b[0;31m             \u001b[0;32mreturn\u001b[0m \u001b[0mself\u001b[0m\u001b[0;34m.\u001b[0m\u001b[0m_getitem_column\u001b[0m\u001b[0;34m(\u001b[0m\u001b[0mkey\u001b[0m\u001b[0;34m)\u001b[0m\u001b[0;34m\u001b[0m\u001b[0m\n\u001b[0m\u001b[1;32m   1781\u001b[0m \u001b[0;34m\u001b[0m\u001b[0m\n\u001b[1;32m   1782\u001b[0m     \u001b[0;32mdef\u001b[0m \u001b[0m_getitem_column\u001b[0m\u001b[0;34m(\u001b[0m\u001b[0mself\u001b[0m\u001b[0;34m,\u001b[0m \u001b[0mkey\u001b[0m\u001b[0;34m)\u001b[0m\u001b[0;34m:\u001b[0m\u001b[0;34m\u001b[0m\u001b[0m\n",
      "\u001b[0;32m/Users/Justin/Library/Enthought/Canopy_64bit/User/lib/python2.7/site-packages/pandas/core/frame.pyc\u001b[0m in \u001b[0;36m_getitem_column\u001b[0;34m(self, key)\u001b[0m\n\u001b[1;32m   1785\u001b[0m         \u001b[0;31m# get column\u001b[0m\u001b[0;34m\u001b[0m\u001b[0;34m\u001b[0m\u001b[0m\n\u001b[1;32m   1786\u001b[0m         \u001b[0;32mif\u001b[0m \u001b[0mself\u001b[0m\u001b[0;34m.\u001b[0m\u001b[0mcolumns\u001b[0m\u001b[0;34m.\u001b[0m\u001b[0mis_unique\u001b[0m\u001b[0;34m:\u001b[0m\u001b[0;34m\u001b[0m\u001b[0m\n\u001b[0;32m-> 1787\u001b[0;31m             \u001b[0;32mreturn\u001b[0m \u001b[0mself\u001b[0m\u001b[0;34m.\u001b[0m\u001b[0m_get_item_cache\u001b[0m\u001b[0;34m(\u001b[0m\u001b[0mkey\u001b[0m\u001b[0;34m)\u001b[0m\u001b[0;34m\u001b[0m\u001b[0m\n\u001b[0m\u001b[1;32m   1788\u001b[0m \u001b[0;34m\u001b[0m\u001b[0m\n\u001b[1;32m   1789\u001b[0m         \u001b[0;31m# duplicate columns & possible reduce dimensionaility\u001b[0m\u001b[0;34m\u001b[0m\u001b[0;34m\u001b[0m\u001b[0m\n",
      "\u001b[0;32m/Users/Justin/Library/Enthought/Canopy_64bit/User/lib/python2.7/site-packages/pandas/core/generic.pyc\u001b[0m in \u001b[0;36m_get_item_cache\u001b[0;34m(self, item)\u001b[0m\n\u001b[1;32m   1066\u001b[0m         \u001b[0mres\u001b[0m \u001b[0;34m=\u001b[0m \u001b[0mcache\u001b[0m\u001b[0;34m.\u001b[0m\u001b[0mget\u001b[0m\u001b[0;34m(\u001b[0m\u001b[0mitem\u001b[0m\u001b[0;34m)\u001b[0m\u001b[0;34m\u001b[0m\u001b[0m\n\u001b[1;32m   1067\u001b[0m         \u001b[0;32mif\u001b[0m \u001b[0mres\u001b[0m \u001b[0;32mis\u001b[0m \u001b[0mNone\u001b[0m\u001b[0;34m:\u001b[0m\u001b[0;34m\u001b[0m\u001b[0m\n\u001b[0;32m-> 1068\u001b[0;31m             \u001b[0mvalues\u001b[0m \u001b[0;34m=\u001b[0m \u001b[0mself\u001b[0m\u001b[0;34m.\u001b[0m\u001b[0m_data\u001b[0m\u001b[0;34m.\u001b[0m\u001b[0mget\u001b[0m\u001b[0;34m(\u001b[0m\u001b[0mitem\u001b[0m\u001b[0;34m)\u001b[0m\u001b[0;34m\u001b[0m\u001b[0m\n\u001b[0m\u001b[1;32m   1069\u001b[0m             \u001b[0mres\u001b[0m \u001b[0;34m=\u001b[0m \u001b[0mself\u001b[0m\u001b[0;34m.\u001b[0m\u001b[0m_box_item_values\u001b[0m\u001b[0;34m(\u001b[0m\u001b[0mitem\u001b[0m\u001b[0;34m,\u001b[0m \u001b[0mvalues\u001b[0m\u001b[0;34m)\u001b[0m\u001b[0;34m\u001b[0m\u001b[0m\n\u001b[1;32m   1070\u001b[0m             \u001b[0mcache\u001b[0m\u001b[0;34m[\u001b[0m\u001b[0mitem\u001b[0m\u001b[0;34m]\u001b[0m \u001b[0;34m=\u001b[0m \u001b[0mres\u001b[0m\u001b[0;34m\u001b[0m\u001b[0m\n",
      "\u001b[0;32m/Users/Justin/Library/Enthought/Canopy_64bit/User/lib/python2.7/site-packages/pandas/core/internals.pyc\u001b[0m in \u001b[0;36mget\u001b[0;34m(self, item, fastpath)\u001b[0m\n\u001b[1;32m   2847\u001b[0m \u001b[0;34m\u001b[0m\u001b[0m\n\u001b[1;32m   2848\u001b[0m             \u001b[0;32mif\u001b[0m \u001b[0;32mnot\u001b[0m \u001b[0misnull\u001b[0m\u001b[0;34m(\u001b[0m\u001b[0mitem\u001b[0m\u001b[0;34m)\u001b[0m\u001b[0;34m:\u001b[0m\u001b[0;34m\u001b[0m\u001b[0m\n\u001b[0;32m-> 2849\u001b[0;31m                 \u001b[0mloc\u001b[0m \u001b[0;34m=\u001b[0m \u001b[0mself\u001b[0m\u001b[0;34m.\u001b[0m\u001b[0mitems\u001b[0m\u001b[0;34m.\u001b[0m\u001b[0mget_loc\u001b[0m\u001b[0;34m(\u001b[0m\u001b[0mitem\u001b[0m\u001b[0;34m)\u001b[0m\u001b[0;34m\u001b[0m\u001b[0m\n\u001b[0m\u001b[1;32m   2850\u001b[0m             \u001b[0;32melse\u001b[0m\u001b[0;34m:\u001b[0m\u001b[0;34m\u001b[0m\u001b[0m\n\u001b[1;32m   2851\u001b[0m                 \u001b[0mindexer\u001b[0m \u001b[0;34m=\u001b[0m \u001b[0mnp\u001b[0m\u001b[0;34m.\u001b[0m\u001b[0marange\u001b[0m\u001b[0;34m(\u001b[0m\u001b[0mlen\u001b[0m\u001b[0;34m(\u001b[0m\u001b[0mself\u001b[0m\u001b[0;34m.\u001b[0m\u001b[0mitems\u001b[0m\u001b[0;34m)\u001b[0m\u001b[0;34m)\u001b[0m\u001b[0;34m[\u001b[0m\u001b[0misnull\u001b[0m\u001b[0;34m(\u001b[0m\u001b[0mself\u001b[0m\u001b[0;34m.\u001b[0m\u001b[0mitems\u001b[0m\u001b[0;34m)\u001b[0m\u001b[0;34m]\u001b[0m\u001b[0;34m\u001b[0m\u001b[0m\n",
      "\u001b[0;32m/Users/Justin/Library/Enthought/Canopy_64bit/User/lib/python2.7/site-packages/pandas/core/index.pyc\u001b[0m in \u001b[0;36mget_loc\u001b[0;34m(self, key)\u001b[0m\n\u001b[1;32m   1400\u001b[0m         \u001b[0mloc\u001b[0m \u001b[0;34m:\u001b[0m \u001b[0mint\u001b[0m \u001b[0;32mif\u001b[0m \u001b[0munique\u001b[0m \u001b[0mindex\u001b[0m\u001b[0;34m,\u001b[0m \u001b[0mpossibly\u001b[0m \u001b[0mslice\u001b[0m \u001b[0;32mor\u001b[0m \u001b[0mmask\u001b[0m \u001b[0;32mif\u001b[0m \u001b[0;32mnot\u001b[0m\u001b[0;34m\u001b[0m\u001b[0m\n\u001b[1;32m   1401\u001b[0m         \"\"\"\n\u001b[0;32m-> 1402\u001b[0;31m         \u001b[0;32mreturn\u001b[0m \u001b[0mself\u001b[0m\u001b[0;34m.\u001b[0m\u001b[0m_engine\u001b[0m\u001b[0;34m.\u001b[0m\u001b[0mget_loc\u001b[0m\u001b[0;34m(\u001b[0m\u001b[0m_values_from_object\u001b[0m\u001b[0;34m(\u001b[0m\u001b[0mkey\u001b[0m\u001b[0;34m)\u001b[0m\u001b[0;34m)\u001b[0m\u001b[0;34m\u001b[0m\u001b[0m\n\u001b[0m\u001b[1;32m   1403\u001b[0m \u001b[0;34m\u001b[0m\u001b[0m\n\u001b[1;32m   1404\u001b[0m     \u001b[0;32mdef\u001b[0m \u001b[0mget_value\u001b[0m\u001b[0;34m(\u001b[0m\u001b[0mself\u001b[0m\u001b[0;34m,\u001b[0m \u001b[0mseries\u001b[0m\u001b[0;34m,\u001b[0m \u001b[0mkey\u001b[0m\u001b[0;34m)\u001b[0m\u001b[0;34m:\u001b[0m\u001b[0;34m\u001b[0m\u001b[0m\n",
      "\u001b[0;32m/Users/Justin/Library/Enthought/Canopy_64bit/User/lib/python2.7/site-packages/pandas/index.so\u001b[0m in \u001b[0;36mpandas.index.IndexEngine.get_loc (pandas/index.c:3812)\u001b[0;34m()\u001b[0m\n",
      "\u001b[0;32m/Users/Justin/Library/Enthought/Canopy_64bit/User/lib/python2.7/site-packages/pandas/index.so\u001b[0m in \u001b[0;36mpandas.index.IndexEngine.get_loc (pandas/index.c:3692)\u001b[0;34m()\u001b[0m\n",
      "\u001b[0;32m/Users/Justin/Library/Enthought/Canopy_64bit/User/lib/python2.7/site-packages/pandas/hashtable.so\u001b[0m in \u001b[0;36mpandas.hashtable.PyObjectHashTable.get_item (pandas/hashtable.c:12299)\u001b[0;34m()\u001b[0m\n",
      "\u001b[0;32m/Users/Justin/Library/Enthought/Canopy_64bit/User/lib/python2.7/site-packages/pandas/hashtable.so\u001b[0m in \u001b[0;36mpandas.hashtable.PyObjectHashTable.get_item (pandas/hashtable.c:12250)\u001b[0;34m()\u001b[0m\n",
      "\u001b[0;31mKeyError\u001b[0m: 'ChargeDescr1'"
     ]
    }
   ],
   "source": [
    "st_gb_ChargeDescr1 = sandtown_arrests.groupby(sandtown_arrests['ChargeDescr1'])\n",
    "st_ChargeDescr1_counts = st_gb_ChargeDescr1['Arrest'].count()\n",
    "st_ChargeDescr1_counts.sort(ascending=False, inplace=True)\n",
    "print st_ChargeDescr1_counts[:25]"
   ]
  },
  {
   "cell_type": "code",
   "execution_count": 33,
   "metadata": {
    "collapsed": false
   },
   "outputs": [
    {
     "data": {
      "image/png": "[encoded data removed]",
      "text/plain": [
       "<matplotlib.figure.Figure at 0x10a901c10>"
      ]
     },
     "metadata": {},
     "output_type": "display_data"
    }
   ],
   "source": [
    "fig = plt.figure()\n",
    "ax1 = plt.subplot(1,1,1)\n",
    "bar(range(0,10,1),st_ChargeDescr1_counts[:10],align='center',color='r')\n",
    "xticks(range(0,10,1))\n",
    "ax1.set_xticklabels(st_ChargeDescr1_counts[:10].index,rotation=90)\n",
    "xlim([-1,10])\n",
    "# turn off square border around plot\n",
    "ax1.spines[\"top\"].set_visible(False)  \n",
    "ax1.spines[\"bottom\"].set_visible(False)  \n",
    "ax1.spines[\"right\"].set_visible(False)  \n",
    "ax1.spines[\"left\"].set_visible(False)\n",
    "\n",
    "# turn off ticks\n",
    "ax1.tick_params(axis=\"both\", which=\"both\", bottom=\"off\", top=\"off\",\n",
    "               labelbottom=\"on\", left=\"off\", right=\"off\", labelleft=\"on\",labelsize=20)\n",
    "\n",
    "plt.show()"
   ]
  },
  {
   "cell_type": "code",
   "execution_count": 34,
   "metadata": {
    "collapsed": false
   },
   "outputs": [],
   "source": [
    "st_ChargeDescr1_counts = pd.DataFrame(st_ChargeDescr1_counts)\n",
    "st_ChargeDescr1_counts['ChargeDescr1'] = st_ChargeDescr1_counts.index\n",
    "st_cds_counts = st_ChargeDescr1_counts[st_ChargeDescr1_counts['ChargeDescr1'].str.contains('Cds')==True]"
   ]
  },
  {
   "cell_type": "code",
   "execution_count": 34,
   "metadata": {
    "collapsed": false
   },
   "outputs": [],
   "source": [
    "\n"
   ]
  },
  {
   "cell_type": "markdown",
   "metadata": {},
   "source": [
    "This is the percent of all arrests in Sandtown-Winchester attributable to controlled and dangerous substances."
   ]
  },
  {
   "cell_type": "code",
   "execution_count": 35,
   "metadata": {
    "collapsed": false
   },
   "outputs": [
    {
     "data": {
      "text/plain": [
       "64.4"
      ]
     },
     "execution_count": 35,
     "metadata": {},
     "output_type": "execute_result"
    }
   ],
   "source": [
    "round(100*float(st_cds_counts.Arrest.sum())/float(st_ChargeDescr1_counts.Arrest.sum()),1)"
   ]
  },
  {
   "cell_type": "markdown",
   "metadata": {},
   "source": [
    "This is the percent of all arrests in Sandtown-Winchester attributable to marihuana."
   ]
  },
  {
   "cell_type": "code",
   "execution_count": 36,
   "metadata": {
    "collapsed": false
   },
   "outputs": [
    {
     "data": {
      "text/plain": [
       "13.9"
      ]
     },
     "execution_count": 36,
     "metadata": {},
     "output_type": "execute_result"
    }
   ],
   "source": [
    "round(100*(st_ChargeDescr1_counts[st_ChargeDescr1_counts['ChargeDescr1']=='Cds: Possession-Marihuana '].Arrest.sum() + st_ChargeDescr1_counts[st_ChargeDescr1_counts['ChargeDescr1']=='Cds: Poss Marihuana L/T 10 G '].Arrest.sum())/float(st_ChargeDescr1_counts.Arrest.sum()),1)"
   ]
  },
  {
   "cell_type": "markdown",
   "metadata": {},
   "source": [
    "# A Day in Sandtown-Westchester"
   ]
  },
  {
   "cell_type": "code",
   "execution_count": 11,
   "metadata": {
    "collapsed": false
   },
   "outputs": [
    {
     "data": {
      "image/png": "[encoded data removed]",
      "text/plain": [
       "<matplotlib.figure.Figure at 0x1073e0450>"
      ]
     },
     "metadata": {},
     "output_type": "display_data"
    }
   ],
   "source": [
    "fig = plt.figure(figsize=[16,6])\n",
    "ax1 = plt.subplot(1,1,1)\n",
    "plot_Bal = plot(BPD_arrests['Arrest'].groupby(BPD_arrests.index.hour).count().apply(lambda x: float(x)) / float(BPD_arrests['Arrest'].count()),\n",
    "                color = 'k',\n",
    "                linestyle='--',\n",
    "                linewidth=2.0)\n",
    "plot_ST = plot(sandtown_arrests['Arrest'].groupby(sandtown_arrests.index.hour).count().index,sandtown_arrests['Arrest'].groupby(sandtown_arrests.index.hour).count().apply(lambda x: float(x)) / float(sandtown_arrests['Arrest'].count()),\n",
    "                color='r')\n",
    "plot_FH = plot(fedhill_arrests['Arrest'].groupby(fedhill_arrests.index.hour).count().apply(lambda x: float(x)) / float(fedhill_arrests['Arrest'].count()),\n",
    "               color='c')\n",
    "#(canton_arrests['Arrest'].groupby(canton_arrests.index.hour).count().apply(lambda x: float(x)) / float(canton_arrests['Arrest'].count())).plot()\n",
    "#(midtownbel_arrests['Arrest'].groupby(midtownbel_arrests.index.hour).count().apply(lambda x: float(x)) / float(midtownbel_arrests['Arrest'].count())).plot()\n",
    "grid('off')\n",
    "legend(['Baltimore (# Arrests: %s)'%len(BPD_arrests['Arrest']),\n",
    "        'Sandtown (# Arrests: %s)'%len(sandtown_arrests['Arrest']),\n",
    "        'Fed Hill (# Arrests: %s)'%len(fedhill_arrests['Arrest'])],\n",
    "       loc='upper center')#,\n",
    "#        'Canton (# Arrests: %s)'%len(canton_arrests['Arrest']),\n",
    "#       'Midtown Belvedere (N=%s)'%len(midtownbel_arrests['Arrest'])],loc='upper center')\n",
    "\n",
    "xticks(range(0,24,1))\n",
    "xlim([0,23])\n",
    "#ylim([0,.1])\n",
    "ylabel('Percent of Arrests Made',fontsize=16)\n",
    "xlabel('Hour of Day',fontsize=16)\n",
    "\n",
    "# turn off square border around plot\n",
    "ax1.spines[\"top\"].set_visible(False)  \n",
    "ax1.spines[\"bottom\"].set_visible(False)  \n",
    "ax1.spines[\"right\"].set_visible(False)  \n",
    "ax1.spines[\"left\"].set_visible(False)\n",
    "\n",
    "# turn off ticks\n",
    "ax1.tick_params(axis=\"both\", which=\"both\", bottom=\"off\", top=\"off\",\n",
    "               labelbottom=\"on\", left=\"off\", right=\"off\", labelleft=\"on\",labelsize=16)\n",
    "plt.show()"
   ]
  },
  {
   "cell_type": "code",
   "execution_count": 38,
   "metadata": {
    "collapsed": false
   },
   "outputs": [
    {
     "name": "stdout",
     "output_type": "stream",
     "text": [
      "ABELL\n",
      "ALLENDALE\n",
      "ARCADIA\n",
      "ARLINGTON\n",
      "ARMISTEAD GARDENS\n",
      "ASHBURTON\n",
      "Abell\n",
      "Allendale\n",
      "Arcadia\n",
      "Arlington\n",
      "Armistead Gardens\n",
      "Ashburton\n",
      "BALTIMORE HIGHLANDS\n",
      "BARCLAY\n",
      "BARRE CIRCLE\n",
      "BAYVIEW\n",
      "BEECHFIELD\n",
      "BELAIR-EDISON\n",
      "BELAIR-PARKSIDE\n",
      "BELVEDERE\n",
      "BEREA\n",
      "BETTER WAVERLY\n",
      "BEVERLY HILLS\n",
      "BIDDLE STREET\n",
      "BOLTON HILL\n",
      "BOYD-BOOTH\n",
      "BREWERS HILL\n",
      "BRIDGEVIEW/GREENLAWN\n",
      "BROADWAY EAST\n",
      "BROENING MANOR\n",
      "BROOKLYN\n",
      "BURLEITH-LEIGHTON\n",
      "BUTCHER'S HILL\n",
      "Baltimore Highlands\n",
      "Barclay\n",
      "Barre Circle\n",
      "Bayview\n",
      "Beechfield\n",
      "Belair-Edison\n",
      "Belair-Parkside\n",
      "Belvedere\n",
      "Berea\n",
      "Better Waverly\n",
      "Beverly Hills\n",
      "Biddle Street\n",
      "Bolton Hill\n",
      "Boyd-Booth\n",
      "Brewers Hill\n",
      "Bridgeview/Greenlawn\n",
      "Broadway East\n",
      "Broening Manor\n",
      "Brooklyn\n",
      "Burleith-Leighton\n",
      "Butcher's Hill\n",
      "CALLAWAY-GARRISON\n",
      "CAMERON VILLAGE\n",
      "CANTON\n",
      "CANTON INDUSTRIAL AREA\n",
      "CARE\n",
      "CARROLL - CAMDEN INDUSTRIAL AREA\n",
      "CARROLL PARK\n",
      "CARROLL-SOUTH HILTON\n",
      "CARROLLTON RIDGE\n",
      "CEDARCROFT\n",
      "CEDMONT\n",
      "CEDONIA\n",
      "CENTRAL FOREST PARK\n",
      "CENTRAL PARK HEIGHTS\n",
      "CHARLES NORTH\n",
      "CHARLES VILLAGE\n",
      "CHERRY HILL\n",
      "CHESWOLDE\n",
      "CHINQUAPIN PARK\n",
      "CLIFTON PARK\n",
      "COLDSPRING\n",
      "COLDSTREAM HOMESTEAD MONTEBELLO\n",
      "CONCERNED CITIZENS OF FOREST PARK\n",
      "COPPIN HEIGHTS/ASH-CO-EAST\n",
      "CROSS COUNTRY\n",
      "CROSS KEYS\n",
      "CURTIS BAY\n",
      "CYLBURN\n",
      "Callaway-Garrison\n",
      "Cameron Village\n",
      "Canton\n",
      "Canton Industrial Area\n",
      "Carroll - Camden Industrial Area\n",
      "Carroll Park\n",
      "Carroll-South Hilton\n",
      "Carrollton Ridge\n",
      "Cedarcroft\n",
      "Cedmont\n",
      "Cedonia\n",
      "Central Forest Park\n",
      "Central Park Heights\n",
      "Charles North\n",
      "Charles Village\n",
      "Cherry Hill\n",
      "Cheswolde\n",
      "Chinquapin Park\n",
      "Clifton Park\n",
      "Coldspring\n",
      "Coldstream Homestead Montebello\n",
      "Concerned Citizens Of Forest Park\n",
      "Coppin Heights/Ash-Co-East\n",
      "Cross Country\n",
      "Cross Keys\n",
      "Curtis Bay\n",
      "Curtis Bay Industrial Area\n",
      "Cylburn\n",
      "DARLEY PARK\n",
      "DICKEYVILLE\n",
      "DOLFIELD\n",
      "DORCHESTER\n",
      "DOWNTOWN\n",
      "DOWNTOWN WEST\n",
      "DRUID HEIGHTS\n",
      "DRUID HILL PARK\n",
      "DUNBAR-BROADWAY\n",
      "Darley Park\n",
      "Dickeyville\n",
      "Dolfield\n",
      "Dorchester\n",
      "Downtown\n",
      "Downtown West\n",
      "Druid Heights\n",
      "Druid Hill Park\n",
      "Dunbar-Broadway\n",
      "EAST ARLINGTON\n",
      "EAST BALTIMORE MIDWAY\n",
      "EASTERWOOD\n",
      "EASTWOOD\n",
      "EDGEWOOD\n",
      "EDMONDSON VILLAGE\n",
      "EDNOR GARDENS-LAKESIDE\n",
      "ELLWOOD PARK/MONUMENT\n",
      "EVERGREEN\n",
      "EVERGREEN LAWN\n",
      "EVESHAM PARK\n",
      "East Arlington\n",
      "East Baltimore Midway\n",
      "Easterwood\n",
      "Eastwood\n",
      "Edgewood\n",
      "Edmondson Village\n",
      "Ednor Gardens-Lakeside\n",
      "Ellwood Park/Monument\n",
      "Evergreen\n",
      "Evergreen Lawn\n",
      "Evesham Park\n",
      "FAIRFIELD AREA\n",
      "FAIRMONT\n",
      "FALLSTAFF\n",
      "FEDERAL HILL\n",
      "FELLS POINT\n",
      "FOREST PARK\n",
      "FOREST PARK GOLF COURSE\n",
      "FOUR BY FOUR\n",
      "FRANKFORD\n",
      "FRANKLIN SQUARE\n",
      "FRANKLINTOWN\n",
      "FRANKLINTOWN ROAD\n",
      "Fairfield Area\n",
      "Fairmont\n",
      "Fallstaff\n",
      "Federal Hill\n",
      "Fells Point\n",
      "Forest Park\n",
      "Forest Park Golf Course\n",
      "Four By Four\n",
      "Frankford\n",
      "Franklin Square\n",
      "Franklintown\n",
      "Franklintown Road\n",
      "GARWYN OAKS\n",
      "GAY STREET\n",
      "GLEN\n",
      "GLEN OAKS\n",
      "GLENHAM-BELHAR\n",
      "GRACELAND PARK\n",
      "GREEKTOWN\n",
      "GREENMOUNT CEMETERY\n",
      "GREENMOUNT WEST\n",
      "GREENSPRING\n",
      "GROVE PARK\n",
      "GUILFORD\n",
      "GWYNNS FALLS\n",
      "GWYNNS FALLS/LEAKIN PARK\n",
      "Garwyn Oaks\n",
      "Gay Street\n",
      "Glen\n",
      "Glen Oaks\n",
      "Glenham-Belhar\n",
      "Graceland Park\n",
      "Greektown\n",
      "Greenmount Cemetery\n",
      "Greenmount West\n",
      "Greenspring\n",
      "Grove Park\n",
      "Guilford\n",
      "Gwynns Falls\n",
      "Gwynns Falls/Leakin Park\n",
      "HAMILTON HILLS\n",
      "HAMPDEN\n",
      "HANLON-LONGWOOD\n",
      "HARLEM PARK\n",
      "HARWOOD\n",
      "HAWKINS POINT\n",
      "HERITAGE CROSSING\n",
      "HERRING RUN PARK\n",
      "HIGHLANDTOWN\n",
      "HILLEN\n",
      "HOES HEIGHTS\n",
      "HOLABIRD INDUSTRIAL PARK\n",
      "HOLLINS MARKET\n",
      "HOMELAND\n",
      "HOPKINS BAYVIEW\n",
      "HOWARD PARK\n",
      "HUNTING RIDGE\n",
      "Hamilton Hills\n",
      "Hampden\n",
      "Hanlon-Longwood\n",
      "Harlem Park\n",
      "Harwood\n",
      "Hawkins Point\n",
      "Heritage Crossing\n",
      "Herring Run Park\n",
      "Highlandtown\n",
      "Hillen\n",
      "Hoes Heights\n",
      "Holabird Industrial Park\n",
      "Hollins Market\n",
      "Homeland\n",
      "Hopkins Bayview\n",
      "Howard Park\n",
      "Hunting Ridge\n",
      "IDLEWOOD\n",
      "INNER HARBOR\n",
      "IRVINGTON\n",
      "Idlewood\n",
      "Inner Harbor\n",
      "Irvington\n",
      "JOHNS HOPKINS HOMEWOOD\n",
      "JOHNSTON SQUARE\n",
      "JONES FALLS AREA\n",
      "JONESTOWN\n",
      "Johnston Square\n",
      "Jones Falls Area\n",
      "Jonestown\n",
      "KENILWORTH PARK\n",
      "KERNEWOOD\n",
      "KRESSON\n",
      "Kenilworth Park\n",
      "Kernewood\n",
      "Keswick\n",
      "Kresson\n",
      "LAKE WALKER\n",
      "LAKELAND\n",
      "LANGSTON HUGHES\n",
      "LAURAVILLE\n",
      "LEVINDALE\n",
      "LIBERTY SQUARE\n",
      "LITTLE ITALY\n",
      "LOCH RAVEN\n",
      "LOCUST POINT\n",
      "LOCUST POINT INDUSTRIAL AREA\n",
      "LOWER EDMONDSON VILLAGE\n",
      "LOWER HERRING RUN PARK\n",
      "LOYOLA/NOTRE DAME\n",
      "LUCILLE PARK\n",
      "Lake Evesham\n",
      "Lake Walker\n",
      "Lakeland\n",
      "Langston Hughes\n",
      "Lauraville\n",
      "Levindale\n",
      "Liberty Square\n",
      "Little Italy\n",
      "Loch Raven\n",
      "Locust Point\n",
      "Locust Point Industrial Area\n",
      "Lower Edmondson Village\n",
      "Lower Herring Run Park\n",
      "Lucille Park\n",
      "MADISON PARK\n",
      "MADISON-EASTEND\n",
      "MAYFIELD\n",
      "MCELDERRY PARK\n",
      "MEDFIELD\n",
      "MEDFORD\n",
      "MID-GOVANS\n",
      "MID-TOWN BELVEDERE\n",
      "MIDDLE BRANCH/REEDBIRD PARKS\n",
      "MIDDLE EAST\n",
      "MIDTOWN-EDMONDSON\n",
      "MILLHILL\n",
      "MILTON-MONTFORD\n",
      "MONDAWMIN\n",
      "MONTEBELLO\n",
      "MORAVIA-WALTHER\n",
      "MORGAN PARK\n",
      "MORGAN STATE UNIVERSITY\n",
      "MORRELL PARK\n",
      "MOSHER\n",
      "MOUNT HOLLY\n",
      "MOUNT VERNON\n",
      "MOUNT WASHINGTON\n",
      "MOUNT WINANS\n",
      "MT PLEASANT PARK\n",
      "Madison Park\n",
      "Madison-Eastend\n",
      "Mayfield\n",
      "McElderry Park\n",
      "Medfield\n",
      "Medford\n",
      "Mid-Govans\n",
      "Mid-Town Belvedere\n",
      "Middle Branch/Reedbird Parks\n",
      "Middle East\n",
      "Midtown-Edmondson\n",
      "Millhill\n",
      "Milton-Montford\n",
      "Mondawmin\n",
      "Montebello\n",
      "Moravia-Walther\n",
      "Morgan State University\n",
      "Morrell Park\n",
      "Mosher\n",
      "Mount Holly\n",
      "Mount Vernon\n",
      "Mount Washington\n",
      "Mount Winans\n",
      "Mt Pleasant Park\n",
      "NEW NORTHWOOD\n",
      "NEW SOUTHWEST/MOUNT CLARE\n",
      "NORTH HARFORD ROAD\n",
      "NORTH ROLAND PARK/POPLAR HILL\n",
      "NORTHWEST COMMUNITY ACTION\n",
      "New Northwood\n",
      "New Southwest/Mount Clare\n",
      "North Harford Road\n",
      "North Roland Park/Poplar Hill\n",
      "Northwest Community Action\n",
      "O'DONNELL HEIGHTS\n",
      "O'Donnell Heights\n",
      "OAKENSHAWE\n",
      "OAKLEE\n",
      "OLD GOUCHER\n",
      "OLDTOWN\n",
      "OLIVER\n",
      "ORANGEVILLE\n",
      "ORANGEVILLE INDUSTRIAL AREA\n",
      "ORCHARD RIDGE\n",
      "ORIGINAL NORTHWOOD\n",
      "OTTERBEIN\n",
      "OVERLEA\n",
      "Oakenshawe\n",
      "Old Goucher\n",
      "Oldtown\n",
      "Oliver\n",
      "Orangeville\n",
      "Orangeville Industrial Area\n",
      "Orchard Ridge\n",
      "Original Northwood\n",
      "Otterbein\n",
      "Overlea\n",
      "PANWAY/BRADDISH AVENUE\n",
      "PARK CIRCLE\n",
      "PARKLANE\n",
      "PARKSIDE\n",
      "PARKVIEW/WOODBROOK\n",
      "PATTERSON PARK\n",
      "PATTERSON PARK NEIGHBORHOOD\n",
      "PATTERSON PLACE\n",
      "PEN LUCY\n",
      "PENN NORTH\n",
      "PENN-FALLSWAY\n",
      "PENROSE/FAYETTE STREET OUTREACH\n",
      "PERKINS HOMES\n",
      "PERRING LOCH\n",
      "PIMLICO GOOD NEIGHBORS\n",
      "PLEASANT VIEW GARDENS\n",
      "POPPLETON\n",
      "PORT COVINGTON\n",
      "PULASKI INDUSTRIAL AREA\n",
      "PURNELL\n",
      "Panway/Braddish Avenue\n",
      "Park Circle\n",
      "Parklane\n",
      "Parkside\n",
      "Parkview/Woodbrook\n",
      "Patterson Park\n",
      "Patterson Park Neighborhood\n",
      "Patterson Place\n",
      "Pen Lucy\n",
      "Penn North\n",
      "Penn-Fallsway\n",
      "Penrose/Fayette Street Outreach\n",
      "Perkins Homes\n",
      "Perring Loch\n",
      "Pimlico Good Neighbors\n",
      "Pleasant View Gardens\n",
      "Poppleton\n",
      "Port Covington\n",
      "Pulaski Industrial Area\n",
      "Purnell\n",
      "RADNOR-WINSTON\n",
      "RAMBLEWOOD\n",
      "REISTERSTOWN STATION\n",
      "REMINGTON\n",
      "RESERVOIR HILL\n",
      "RICHNOR SPRINGS\n",
      "RIDGELY'S DELIGHT\n",
      "RIVERSIDE\n",
      "ROGNEL HEIGHTS\n",
      "ROLAND PARK\n",
      "ROSEBANK\n",
      "ROSEMONT\n",
      "ROSEMONT EAST\n",
      "ROSEMONT HOMEOWNERS/TENANTS\n",
      "Radnor-Winston\n",
      "Ramblewood\n",
      "Reisterstown Station\n",
      "Remington\n",
      "Reservoir Hill\n",
      "Richnor Springs\n",
      "Ridgely's Delight\n",
      "Riverside\n",
      "Rognel Heights\n",
      "Roland Park\n",
      "Rosebank\n",
      "Rosemont\n",
      "Rosemont East\n",
      "Rosemont Homeowners/Tenants\n",
      "SABINA-MATTFELDT\n",
      "SAINT AGNES\n",
      "SAINT HELENA\n",
      "SAINT JOSEPHS\n",
      "SAINT PAUL\n",
      "SANDTOWN-WINCHESTER\n",
      "SETON BUSINESS PARK\n",
      "SETON HILL\n",
      "SHARP-LEADENHALL\n",
      "SHIPLEY HILL\n",
      "SOUTH BALTIMORE\n",
      "SOUTH CLIFTON PARK\n",
      "SPRING GARDEN INDUSTRIAL AREA\n",
      "STADIUM AREA\n",
      "STONEWOOD-PENTWOOD-WINSTON\n",
      "Sabina-Mattfeldt\n",
      "Saint Agnes\n",
      "Saint Helena\n",
      "Saint Josephs\n",
      "Saint Paul\n",
      "Sandtown-Winchester\n",
      "Seton Business Park\n",
      "Seton Hill\n",
      "Sharp-Leadenhall\n",
      "Shipley Hill\n",
      "South Baltimore\n",
      "South Clifton Park\n",
      "Spring Garden Industrial Area\n",
      "Stadium Area\n",
      "Stonewood-Pentwood-Winston\n",
      "TEN HILLS\n",
      "THE ORCHARDS\n",
      "TOWANDA-GRANTLEY\n",
      "TREMONT\n",
      "TUSCANY-CANTERBURY\n",
      "Taylor Heights\n",
      "Ten Hills\n",
      "Towanda-Grantley\n",
      "Tremont\n",
      "Tuscany-Canterbury\n",
      "UNION SQUARE\n",
      "UNIVERSITY OF MARYLAND\n",
      "UPLANDS\n",
      "UPPER FELLS POINT\n",
      "UPTON\n",
      "Union Square\n",
      "University Of Maryland\n",
      "Uplands\n",
      "Upper Fells Point\n",
      "Upton\n",
      "VIOLETVILLE\n",
      "Villages Of Homeland\n",
      "Violetville\n",
      "WAKEFIELD\n",
      "WALBROOK\n",
      "WALTHERSON\n",
      "WASHINGTON HILL\n",
      "WASHINGTON VILLAGE/PIGTOWN\n",
      "WAVERLY\n",
      "WEST ARLINGTON\n",
      "WEST FOREST PARK\n",
      "WEST HILLS\n",
      "WESTFIELD\n",
      "WESTGATE\n",
      "WESTPORT\n",
      "WILHELM PARK\n",
      "WILSON PARK\n",
      "WINCHESTER\n",
      "WINDSOR HILLS\n",
      "WINSTON-GOVANS\n",
      "WOODBERRY\n",
      "WOODBOURNE HEIGHTS\n",
      "WOODBOURNE-MCCABE\n",
      "WOODMERE\n",
      "WRENLANE\n",
      "WYMAN PARK\n",
      "WYNDHURST\n",
      "Wakefield\n",
      "Walbrook\n",
      "Waltherson\n",
      "Washington Hill\n",
      "Washington Village/Pigtown\n",
      "Waverly\n",
      "West Arlington\n",
      "West Forest Park\n",
      "West Hills\n",
      "Westfield\n",
      "Westgate\n",
      "Westport\n",
      "Wilhelm Park\n",
      "Wilson Park\n",
      "Winchester\n",
      "Windsor Hills\n",
      "Winston-Govans\n",
      "Woodberry\n",
      "Woodbourne Heights\n",
      "Woodbourne-McCabe\n",
      "Woodmere\n",
      "Wrenlane\n",
      "Wyman Park\n",
      "Wyndhurst\n",
      "YALE HEIGHTS\n",
      "YORK-HOMELAND\n",
      "Yale Heights\n",
      "York-Homeland\n"
     ]
    }
   ],
   "source": [
    "for i, j in BPD_arrests.groupby('Neighborhood'):\n",
    "    print i"
   ]
  },
  {
   "cell_type": "code",
   "execution_count": 39,
   "metadata": {
    "collapsed": false
   },
   "outputs": [],
   "source": [
    "canton_pop = 4089+4011\n",
    "sandtown_pop = 8086+6810\n",
    "midtownbel_pop = 7715+7305\n",
    "baltimore_pop = 328712+292249"
   ]
  },
  {
   "cell_type": "code",
   "execution_count": 40,
   "metadata": {
    "collapsed": false
   },
   "outputs": [
    {
     "data": {
      "text/plain": [
       "0.11499731471535983"
      ]
     },
     "execution_count": 40,
     "metadata": {},
     "output_type": "execute_result"
    }
   ],
   "source": [
    "float(len(sandtown_arrests['Arrest']))/float(sandtown_pop)"
   ]
  },
  {
   "cell_type": "code",
   "execution_count": 41,
   "metadata": {
    "collapsed": false
   },
   "outputs": [
    {
     "data": {
      "text/plain": [
       "0.010319573901464714"
      ]
     },
     "execution_count": 41,
     "metadata": {},
     "output_type": "execute_result"
    }
   ],
   "source": [
    "float(len(midtownbel_arrests['Arrest']))/float(midtownbel_pop)"
   ]
  },
  {
   "cell_type": "code",
   "execution_count": 42,
   "metadata": {
    "collapsed": false
   },
   "outputs": [
    {
     "data": {
      "text/plain": [
       "0.13408410512093352"
      ]
     },
     "execution_count": 42,
     "metadata": {},
     "output_type": "execute_result"
    }
   ],
   "source": [
    "float(len(BPD_arrests['Arrest']))/float(baltimore_pop)"
   ]
  },
  {
   "cell_type": "code",
   "execution_count": 43,
   "metadata": {
    "collapsed": false
   },
   "outputs": [
    {
     "data": {
      "text/plain": [
       "ChargeDescr1\n",
       "Cds:Possess-Not Marihuana          64\n",
       "Trespass-Posted Property           12\n",
       "Cds: Poss Marihuana L/T 10 G        9\n",
       "Cds Manuf/Dist-Narc                 7\n",
       "Att-Cds Manuf/Dist-Narc             5\n",
       "Cds:P W/I Dist:Narc                 4\n",
       "Burglary-4Th Degree-Store           3\n",
       "Asslt-Sec Degree                    3\n",
       "Cds: Possession-Marihuana           2\n",
       "False Statement To Officer          2\n",
       "Fail Obey Renble/Lawfl              2\n",
       "Cds Possess - Lg Amt                2\n",
       "Theft: Less $1,000 Value            2\n",
       "Cds:Poss Para                       2\n",
       "Att-Cds Manuf/Dist.                 1\n",
       "Att-Theft Less Than $100.00         1\n",
       "Burglary-Fourth Degree              1\n",
       "Att-Burglary-Fourth Degree          1\n",
       "Deadly Weapon-Conceal               1\n",
       "Animal Cruelty                      1\n",
       "Trespass: Private Property          1\n",
       "Dis.Erly Conduct                    1\n",
       "Driving Rental Veh Viol Of Agr      1\n",
       "Dui                                 1\n",
       "Handgun On Person                   1\n",
       "Mal Dest Prop/Valu - $500           1\n",
       "Motor Veh/Unlawful Taking           1\n",
       "Prostitution-General                1\n",
       "Reg Firearm:Illegal Possession      1\n",
       "Resist/Interfere With Arrest        1\n",
       "Unknown Charge                      0\n",
       "Name: Arrest, dtype: int64"
      ]
     },
     "execution_count": 43,
     "metadata": {},
     "output_type": "execute_result"
    }
   ],
   "source": [
    "sandtown_10am = sandtown_arrests.groupby(sandtown_arrests.index.hour).get_group(10)\n",
    "sandtown_10am_gb = sandtown_10am.groupby('ChargeDescr1')\n",
    "a = sandtown_10am_gb['Arrest'].count()\n",
    "a.sort(ascending=False, inplace=True)\n",
    "a"
   ]
  },
  {
   "cell_type": "code",
   "execution_count": 44,
   "metadata": {
    "collapsed": false
   },
   "outputs": [
    {
     "data": {
      "text/plain": [
       "ChargeDescr1\n",
       "Att-Burglary-Fourth Degree     2\n",
       "Mal Dest Prop/Valu - $500      1\n",
       "Indecent Exposure              1\n",
       "Cds:Possess-Not Marihuana      1\n",
       "Name: Arrest, dtype: int64"
      ]
     },
     "execution_count": 44,
     "metadata": {},
     "output_type": "execute_result"
    }
   ],
   "source": [
    "canton_10am = canton_arrests.groupby(canton_arrests.index.hour).get_group(10)\n",
    "canton_10am_gb = canton_10am.groupby('ChargeDescr1')\n",
    "a = canton_10am_gb['Arrest'].count()\n",
    "a.sort(ascending=False, inplace=True)\n",
    "a"
   ]
  },
  {
   "cell_type": "code",
   "execution_count": 45,
   "metadata": {
    "collapsed": false
   },
   "outputs": [
    {
     "data": {
      "image/png": "[encoded data removed]",
      "text/plain": [
       "<matplotlib.figure.Figure at 0x108ee8e10>"
      ]
     },
     "metadata": {},
     "output_type": "display_data"
    }
   ],
   "source": [
    "fig = plt.figure(figsize=[16,4])\n",
    "ax1 = plt.subplot(1,1,1)\n",
    "#plot_Bal = plot(BPD_arrests['Arrest'].groupby(BPD_arrests.index.hour).count().apply(lambda x: float(x)) / float(BPD_arrests['Arrest'].count()),\n",
    "#                color = 'k')\n",
    "plot_ST = bar(sandtown_arrests['Arrest'].groupby(sandtown_arrests.index.hour).count().index,sandtown_arrests['Arrest'].groupby(sandtown_arrests.index.hour).count(),\n",
    "               color='r',\n",
    "               align='center')\n",
    "#(fedhill_arrests['Arrest'].groupby(fedhill_arrests.index.hour).count().apply(lambda x: float(x)) / float(fedhill_arrests['Arrest'].count())).plot()\n",
    "#(canton_arrests['Arrest'].groupby(canton_arrests.index.hour).count().apply(lambda x: float(x)) / float(canton_arrests['Arrest'].count())).plot()\n",
    "#(midtownbel_arrests['Arrest'].groupby(midtownbel_arrests.index.hour).count().apply(lambda x: float(x)) / float(midtownbel_arrests['Arrest'].count())).plot()\n",
    "\n",
    "grid('off')\n",
    "\n",
    "#legend(['Baltimore (# Arrests: %s)'%len(BPD_arrests['Arrest']),\n",
    "#        'Sandtown (# Arrests: %s)'%len(sandtown_arrests['Arrest']),\n",
    "#        'Fed Hill (# Arrests: %s)'%len(fedhill_arrests['Arrest']),\n",
    "#        'Canton (# Arrests: %s)'%len(canton_arrests['Arrest']),\n",
    "#        'Midtown Belvedere (N=%s)'%len(midtownbel_arrests['Arrest'])],loc='upper center')\n",
    "\n",
    "xticks(range(0,24,1))\n",
    "xlim([-1,24])\n",
    "#ylim([0,.1])\n",
    "\n",
    "# turn off square border around plot\n",
    "ax1.spines[\"top\"].set_visible(False)  \n",
    "ax1.spines[\"bottom\"].set_visible(False)  \n",
    "ax1.spines[\"right\"].set_visible(False)  \n",
    "ax1.spines[\"left\"].set_visible(False)\n",
    "\n",
    "# turn off ticks\n",
    "ax1.tick_params(axis=\"both\", which=\"both\", bottom=\"off\", top=\"off\",\n",
    "               labelbottom=\"on\", left=\"off\", right=\"off\", labelleft=\"on\",labelsize=10)\n",
    "\n",
    "ylabel('Percent of Arrests Made')\n",
    "xlabel('Hour of Day')\n",
    "plt.show()"
   ]
  },
  {
   "cell_type": "code",
   "execution_count": 48,
   "metadata": {
    "collapsed": false
   },
   "outputs": [
    {
     "data": {
      "text/html": [
       "<div style=\"max-height:1000px;max-width:1500px;overflow:auto;\">\n",
       "<table border=\"1\" class=\"dataframe\">\n",
       "  <thead>\n",
       "    <tr style=\"text-align: right;\">\n",
       "      <th></th>\n",
       "      <th>Arrest</th>\n",
       "      <th>Age</th>\n",
       "      <th>Sex</th>\n",
       "      <th>Race</th>\n",
       "      <th>ArrestLocation</th>\n",
       "      <th>IncidentOffense</th>\n",
       "      <th>IncidentLocation</th>\n",
       "      <th>Charge</th>\n",
       "      <th>ChargeDescription</th>\n",
       "      <th>District</th>\n",
       "      <th>Post</th>\n",
       "      <th>Neighborhood</th>\n",
       "      <th>Location 1</th>\n",
       "    </tr>\n",
       "    <tr>\n",
       "      <th>timestamp</th>\n",
       "      <th></th>\n",
       "      <th></th>\n",
       "      <th></th>\n",
       "      <th></th>\n",
       "      <th></th>\n",
       "      <th></th>\n",
       "      <th></th>\n",
       "      <th></th>\n",
       "      <th></th>\n",
       "      <th></th>\n",
       "      <th></th>\n",
       "      <th></th>\n",
       "      <th></th>\n",
       "    </tr>\n",
       "  </thead>\n",
       "  <tbody>\n",
       "    <tr>\n",
       "      <th>2014-12-13 22:30:00</th>\n",
       "      <td> 14207911</td>\n",
       "      <td> 56</td>\n",
       "      <td> M</td>\n",
       "      <td> B</td>\n",
       "      <td>      500 W FAYETTE ST</td>\n",
       "      <td>      Unknown Offense</td>\n",
       "      <td>                  NaN</td>\n",
       "      <td>    NaN</td>\n",
       "      <td>                                   Unknown Charge</td>\n",
       "      <td>      Central</td>\n",
       "      <td> 121</td>\n",
       "      <td>             DOWNTOWN</td>\n",
       "      <td> (39.2903683802, -76.6224520970)</td>\n",
       "    </tr>\n",
       "    <tr>\n",
       "      <th>2014-12-13 19:30:00</th>\n",
       "      <td> 14207904</td>\n",
       "      <td> 28</td>\n",
       "      <td> M</td>\n",
       "      <td> B</td>\n",
       "      <td> 4400 PARK HEIGHTS AVE</td>\n",
       "      <td> 55-Disorderly Person</td>\n",
       "      <td> 4400 Park Heights Av</td>\n",
       "      <td> 2 2220</td>\n",
       "      <td> Trespass: Private Property || Disorderly Conduct</td>\n",
       "      <td> Northwestern</td>\n",
       "      <td> 612</td>\n",
       "      <td> CENTRAL PARK HEIGHTS</td>\n",
       "      <td> (39.3400042754, -76.6667641653)</td>\n",
       "    </tr>\n",
       "    <tr>\n",
       "      <th>2014-12-13 01:08:00</th>\n",
       "      <td> 14207733</td>\n",
       "      <td> 35</td>\n",
       "      <td> F</td>\n",
       "      <td> W</td>\n",
       "      <td>      4000 GRANITE AVE</td>\n",
       "      <td>      Unknown Offense</td>\n",
       "      <td>       5800 Belair Rd</td>\n",
       "      <td> 4 3550</td>\n",
       "      <td>       Cds:Possess-Not Marihuana || Cds Violation</td>\n",
       "      <td> Northeastern</td>\n",
       "      <td> 427</td>\n",
       "      <td>       GLENHAM-BELHAR</td>\n",
       "      <td> (39.3457137397, -76.5427717433)</td>\n",
       "    </tr>\n",
       "    <tr>\n",
       "      <th>2014-12-13 12:00:00</th>\n",
       "      <td> 14207785</td>\n",
       "      <td> 39</td>\n",
       "      <td> M</td>\n",
       "      <td> B</td>\n",
       "      <td>          400 W LEE ST</td>\n",
       "      <td>      Unknown Offense</td>\n",
       "      <td>         400 W Lee St</td>\n",
       "      <td> 1 2545</td>\n",
       "      <td>    Counterfeit Tm/Under $1000 || Failure To Obey</td>\n",
       "      <td>     Southern</td>\n",
       "      <td> 941</td>\n",
       "      <td>         STADIUM AREA</td>\n",
       "      <td> (39.2818088652, -76.6212436885)</td>\n",
       "    </tr>\n",
       "    <tr>\n",
       "      <th>2014-12-13 02:45:00</th>\n",
       "      <td> 14207728</td>\n",
       "      <td> 56</td>\n",
       "      <td> M</td>\n",
       "      <td> B</td>\n",
       "      <td>       3600 HARFORD RD</td>\n",
       "      <td>      Unknown Offense</td>\n",
       "      <td>                  NaN</td>\n",
       "      <td>    NaN</td>\n",
       "      <td>                            Driving On Susp. Lic.</td>\n",
       "      <td> Northeastern</td>\n",
       "      <td> 414</td>\n",
       "      <td>             MAYFIELD</td>\n",
       "      <td> (39.3304415117, -76.5809727583)</td>\n",
       "    </tr>\n",
       "  </tbody>\n",
       "</table>\n",
       "</div>"
      ],
      "text/plain": [
       "                       Arrest  Age Sex Race         ArrestLocation  \\\n",
       "timestamp                                                            \n",
       "2014-12-13 22:30:00  14207911   56   M    B       500 W FAYETTE ST   \n",
       "2014-12-13 19:30:00  14207904   28   M    B  4400 PARK HEIGHTS AVE   \n",
       "2014-12-13 01:08:00  14207733   35   F    W       4000 GRANITE AVE   \n",
       "2014-12-13 12:00:00  14207785   39   M    B           400 W LEE ST   \n",
       "2014-12-13 02:45:00  14207728   56   M    B        3600 HARFORD RD   \n",
       "\n",
       "                          IncidentOffense      IncidentLocation  Charge  \\\n",
       "timestamp                                                                 \n",
       "2014-12-13 22:30:00       Unknown Offense                   NaN     NaN   \n",
       "2014-12-13 19:30:00  55-Disorderly Person  4400 Park Heights Av  2 2220   \n",
       "2014-12-13 01:08:00       Unknown Offense        5800 Belair Rd  4 3550   \n",
       "2014-12-13 12:00:00       Unknown Offense          400 W Lee St  1 2545   \n",
       "2014-12-13 02:45:00       Unknown Offense                   NaN     NaN   \n",
       "\n",
       "                                                    ChargeDescription  \\\n",
       "timestamp                                                               \n",
       "2014-12-13 22:30:00                                    Unknown Charge   \n",
       "2014-12-13 19:30:00  Trespass: Private Property || Disorderly Conduct   \n",
       "2014-12-13 01:08:00        Cds:Possess-Not Marihuana || Cds Violation   \n",
       "2014-12-13 12:00:00     Counterfeit Tm/Under $1000 || Failure To Obey   \n",
       "2014-12-13 02:45:00                             Driving On Susp. Lic.   \n",
       "\n",
       "                         District  Post          Neighborhood  \\\n",
       "timestamp                                                       \n",
       "2014-12-13 22:30:00       Central   121              DOWNTOWN   \n",
       "2014-12-13 19:30:00  Northwestern   612  CENTRAL PARK HEIGHTS   \n",
       "2014-12-13 01:08:00  Northeastern   427        GLENHAM-BELHAR   \n",
       "2014-12-13 12:00:00      Southern   941          STADIUM AREA   \n",
       "2014-12-13 02:45:00  Northeastern   414              MAYFIELD   \n",
       "\n",
       "                                          Location 1  \n",
       "timestamp                                             \n",
       "2014-12-13 22:30:00  (39.2903683802, -76.6224520970)  \n",
       "2014-12-13 19:30:00  (39.3400042754, -76.6667641653)  \n",
       "2014-12-13 01:08:00  (39.3457137397, -76.5427717433)  \n",
       "2014-12-13 12:00:00  (39.2818088652, -76.6212436885)  \n",
       "2014-12-13 02:45:00  (39.3304415117, -76.5809727583)  "
      ]
     },
     "execution_count": 48,
     "metadata": {},
     "output_type": "execute_result"
    }
   ],
   "source": [
    "BPD_arrests.head()"
   ]
  },
  {
   "cell_type": "code",
   "execution_count": null,
   "metadata": {
    "collapsed": false
   },
   "outputs": [],
   "source": []
  },
  {
   "cell_type": "code",
   "execution_count": 365,
   "metadata": {
    "collapsed": false
   },
   "outputs": [],
   "source": []
  },
  {
   "cell_type": "code",
   "execution_count": null,
   "metadata": {
    "collapsed": false
   },
   "outputs": [],
   "source": []
  }
 ],
 "metadata": {
  "kernelspec": {
   "display_name": "Python 2",
   "language": "python",
   "name": "python2"
  },
  "language_info": {
   "codemirror_mode": {
    "name": "ipython",
    "version": 2
   },
   "file_extension": ".py",
   "mimetype": "text/x-python",
   "name": "python",
   "nbconvert_exporter": "python",
   "pygments_lexer": "ipython2",
   "version": "2.7.6"
  }
 },
 "nbformat": 4,
 "nbformat_minor": 0
}
